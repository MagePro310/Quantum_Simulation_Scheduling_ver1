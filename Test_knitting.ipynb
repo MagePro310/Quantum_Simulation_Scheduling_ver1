{
 "cells": [
  {
   "cell_type": "code",
   "execution_count": 1,
   "id": "d9ca3d05",
   "metadata": {},
   "outputs": [],
   "source": [
    "import sys\n",
    "sys.path.append('./')\n",
    "import json\n",
    "import os\n",
    "import qiskit\n",
    "from qiskit import QuantumCircuit\n",
    "import numpy as np\n",
    "from dataclasses import dataclass\n",
    "from enum import auto, Enum\n",
    "import matplotlib.pyplot as plt\n",
    "import math\n",
    "import pandas as pd\n",
    "from qiskit.visualization import plot_error_map\n",
    "from component.a_backend.fake_backend import *\n",
    "from mqt.bench.targets import get_available_gateset_names, get_available_device_names\n",
    "from mqt.bench import BenchmarkLevel, get_benchmark\n",
    "from mqt.bench.targets import get_device, get_target_for_gateset\n",
    "from qiskit import QuantumCircuit, transpile\n",
    "from qiskit_ibm_runtime import QiskitRuntimeService, SamplerV2 as Sampler\n",
    "from qiskit.transpiler import generate_preset_pass_manager\n",
    " \n",
    "from qiskit.circuit import QuantumCircuit\n",
    "from qiskit.visualization import plot_histogram\n",
    "from component.sup_sys.backend_loader import load_backends\n",
    "from qiskit.visualization import plot_error_map\n",
    "from component.c_circuit_work.knitting.width_k import *"
   ]
  },
  {
   "cell_type": "code",
   "execution_count": 2,
   "id": "e8e37b13",
   "metadata": {},
   "outputs": [],
   "source": [
    "benchmark_keys = [\n",
    "    \"ae\",\n",
    "    \"bmw_quark_cardinality\", \n",
    "    \"bmw_quark_copula\",\n",
    "    \"bv\",\n",
    "    \"cdkm_ripple_carry_adder\",\n",
    "    \"dj\",\n",
    "    \"draper_qft_adder\",\n",
    "    \"full_adder\",\n",
    "    \"ghz\",\n",
    "    \"graphstate\",\n",
    "    \"grover\",\n",
    "    \"half_adder\",\n",
    "    \"hhl\",\n",
    "    \"hrs_cumulative_multiplier\",\n",
    "    \"modular_adder\",\n",
    "    \"multiplier\",\n",
    "    \"qaoa\",\n",
    "    \"qft\",\n",
    "    \"qftentangled\",\n",
    "    \"qnn\",\n",
    "    \"qpeexact\",\n",
    "    \"qpeinexact\",\n",
    "    \"qwalk\",\n",
    "    \"randomcircuit\",\n",
    "    \"rg_qft_multiplier\",\n",
    "    \"shor\",\n",
    "    \"vbe_ripple_carry_adder\",\n",
    "    \"vqe_real_amp\",\n",
    "    \"vqe_su2\",\n",
    "    \"vqe_two_local\",\n",
    "    \"wstate\"\n",
    "]"
   ]
  },
  {
   "cell_type": "code",
   "execution_count": 17,
   "id": "b6c00583",
   "metadata": {},
   "outputs": [],
   "source": [
    "backend0 = FakeAthensV2()\n",
    "plot0 = plot_error_map(backend0)\n",
    "plot0.savefig('img/error_map_backend0.png')"
   ]
  },
  {
   "cell_type": "code",
   "execution_count": 18,
   "id": "2781ef1e",
   "metadata": {},
   "outputs": [],
   "source": [
    "backend1 = FakeBelemV2()\n",
    "plot1 = plot_error_map(backend1)\n",
    "plot1.savefig('img/error_map_backend1.png')"
   ]
  }
 ],
 "metadata": {
  "kernelspec": {
   "display_name": "squan",
   "language": "python",
   "name": "python3"
  },
  "language_info": {
   "codemirror_mode": {
    "name": "ipython",
    "version": 3
   },
   "file_extension": ".py",
   "mimetype": "text/x-python",
   "name": "python",
   "nbconvert_exporter": "python",
   "pygments_lexer": "ipython3",
   "version": "3.10.16"
  }
 },
 "nbformat": 4,
 "nbformat_minor": 5
}
