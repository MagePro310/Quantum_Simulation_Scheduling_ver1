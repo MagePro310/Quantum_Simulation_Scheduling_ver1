{
 "cells": [
  {
   "cell_type": "code",
   "execution_count": 3,
   "metadata": {},
   "outputs": [
    {
     "name": "stdout",
     "output_type": "stream",
     "text": [
      "The autoreload extension is already loaded. To reload it, use:\n",
      "  %reload_ext autoreload\n"
     ]
    }
   ],
   "source": [
    "%load_ext autoreload\n"
   ]
  },
  {
   "cell_type": "code",
   "execution_count": 4,
   "metadata": {},
   "outputs": [],
   "source": [
    "%autoreload 2"
   ]
  },
  {
   "cell_type": "code",
   "execution_count": 5,
   "metadata": {},
   "outputs": [],
   "source": [
    "#\n",
    "import sys\n",
    "sys.path.append('./')"
   ]
  },
  {
   "cell_type": "code",
   "execution_count": 6,
   "metadata": {},
   "outputs": [],
   "source": [
    "# General imports\n",
    "import json\n",
    "from qiskit import QuantumCircuit\n",
    "import numpy as np\n",
    "from dataclasses import dataclass\n",
    "from enum import auto, Enum"
   ]
  },
  {
   "cell_type": "code",
   "execution_count": 7,
   "metadata": {},
   "outputs": [],
   "source": [
    "@dataclass\n",
    "class SchedulerType(Enum):\n",
    "    \"\"\"The type of scheduler to use.\"\"\"\n",
    "\n",
    "    BASELINE = auto()\n",
    "    SIMPLE = auto()\n",
    "    EXTENDED = auto()  "
   ]
  },
  {
   "cell_type": "code",
   "execution_count": 8,
   "metadata": {},
   "outputs": [],
   "source": [
    "# Configuration\n",
    "# 1. Number of Jobs in the batch\n",
    "jobs = {\"A\": 1, \"B\": 2, \"C\": 3, \"D\": 4, \"E\": 5}\n",
    "# 2. Number of machines\n",
    "machines = {\"QUITO\": 5, \"BELEM\": 5}\n",
    "# 3. Scheduling type\n",
    "name_schedule = SchedulerType.EXTENDED\n"
   ]
  },
  {
   "cell_type": "code",
   "execution_count": 9,
   "metadata": {},
   "outputs": [],
   "source": [
    "# Setup\n",
    "if name_schedule == SchedulerType.EXTENDED:\n",
    "    from src.algorithm import MILQ_extend\n",
    "    bigM = 1000\n",
    "    timesteps = 2**6"
   ]
  },
  {
   "cell_type": "code",
   "execution_count": 10,
   "metadata": {},
   "outputs": [
    {
     "name": "stdout",
     "output_type": "stream",
     "text": [
      "Processing times for 0: [0, 0]\n",
      "Processing times for A: [8, 9]\n",
      "Processing times for B: [8, 10]\n",
      "Setup times for 0 and 0: [50, 50]\n",
      "Setup times for 0 and A: [0, 0]\n",
      "Setup times for 0 and B: [0, 0]\n",
      "Setup times for A and 0: [50, 50]\n",
      "Setup times for A and A: [50, 50]\n",
      "Setup times for A and B: [9, 6]\n",
      "Setup times for B and 0: [50, 50]\n",
      "Setup times for B and A: [7, 7]\n",
      "Setup times for B and B: [50, 50]\n",
      "Problem:\n",
      "[<qiskit.circuit.quantumcircuit.QuantumCircuit object at 0x72cb2073bfa0>, <qiskit.circuit.quantumcircuit.QuantumCircuit object at 0x72cb20739600>]\n",
      "Job Capacities:\n",
      "{'A': 2, 'B': 3}\n",
      "Run info\n",
      "Jobs in define_lp:\n",
      "['0', '1', '2']\n",
      "Jobs:\n",
      "2\n",
      "3\n",
      "Jobs in set_up_extended_lp:\n",
      "0\n",
      "1\n",
      "2\n",
      "Machines in set_up_extended_lp:\n",
      "QUITO\n",
      "BELEM\n",
      "Process times:\n",
      "[[0, 0], [8, 9], [8, 10]]\n",
      "Process times:\n",
      "defaultdict(<function __makeDict.<locals>.<lambda> at 0x72cb1234a0e0>, {'1': defaultdict(<function __makeDict.<locals>.<lambda> at 0x72cb12349d80>, {'QUITO': 0, 'BELEM': 0}), '2': defaultdict(<function __makeDict.<locals>.<lambda> at 0x72cb1234a050>, {'QUITO': 8, 'BELEM': 9})})\n",
      "Setup time for job 0 on job 0 on machine QUITO: 50\n",
      "Setup time for job 0 on job 0 on machine BELEM: 50\n",
      "Setup time for job 0 on job 1 on machine QUITO: 0\n",
      "Setup time for job 0 on job 1 on machine BELEM: 0\n",
      "Setup time for job 0 on job 2 on machine QUITO: 0\n",
      "Setup time for job 0 on job 2 on machine BELEM: 0\n",
      "Setup time for job 1 on job 0 on machine QUITO: 50\n",
      "Setup time for job 1 on job 0 on machine BELEM: 50\n",
      "Setup time for job 1 on job 1 on machine QUITO: 50\n",
      "Setup time for job 1 on job 1 on machine BELEM: 50\n",
      "Setup time for job 1 on job 2 on machine QUITO: 9\n",
      "Setup time for job 1 on job 2 on machine BELEM: 6\n",
      "Setup time for job 2 on job 0 on machine QUITO: 50\n",
      "Setup time for job 2 on job 0 on machine BELEM: 50\n",
      "Setup time for job 2 on job 1 on machine QUITO: 7\n",
      "Setup time for job 2 on job 1 on machine BELEM: 7\n",
      "Setup time for job 2 on job 2 on machine QUITO: 50\n",
      "Setup time for job 2 on job 2 on machine BELEM: 50\n",
      "Welcome to the CBC MILP Solver \n",
      "Version: 2.10.3 \n",
      "Build Date: Dec 15 2019 \n",
      "\n",
      "command line - /home/trieu/anaconda3/envs/MILQ/lib/python3.10/site-packages/pulp/solverdir/cbc/linux/64/cbc /tmp/177dc7b43baa41d885f13b09f321d688-pulp.mps timeMode elapsed branch printingOptions all solution /tmp/177dc7b43baa41d885f13b09f321d688-pulp.sol (default strategy 1)\n",
      "At line 2 NAME          MODEL\n",
      "At line 3 ROWS\n",
      "At line 578 COLUMNS\n",
      "At line 3195 RHS\n",
      "At line 3769 BOUNDS\n",
      "At line 4078 ENDATA\n",
      "Problem MODEL has 573 rows, 314 columns and 1999 elements\n",
      "Coin0008I MODEL read with 0 errors\n",
      "Option for timeMode changed from cpu to elapsed\n",
      "Continuous objective value is 8 - 0.00 seconds\n",
      "Cgl0002I 4 variables fixed\n",
      "Cgl0003I 0 fixed, 0 tightened bounds, 254 strengthened rows, 0 substitutions\n",
      "Cgl0003I 0 fixed, 0 tightened bounds, 248 strengthened rows, 0 substitutions\n",
      "Cgl0003I 0 fixed, 0 tightened bounds, 228 strengthened rows, 0 substitutions\n",
      "Cgl0003I 0 fixed, 0 tightened bounds, 228 strengthened rows, 0 substitutions\n",
      "Cgl0003I 0 fixed, 0 tightened bounds, 223 strengthened rows, 0 substitutions\n",
      "Cgl0003I 0 fixed, 0 tightened bounds, 181 strengthened rows, 0 substitutions\n",
      "Cgl0003I 0 fixed, 0 tightened bounds, 172 strengthened rows, 0 substitutions\n",
      "Cgl0003I 0 fixed, 0 tightened bounds, 171 strengthened rows, 0 substitutions\n",
      "Cgl0003I 0 fixed, 0 tightened bounds, 169 strengthened rows, 0 substitutions\n",
      "Cgl0004I processed model has 405 rows, 271 columns (266 integer (266 of which binary)) and 3480 elements\n",
      "Cbc0038I Initial state - 26 integers unsatisfied sum - 5.35524\n",
      "Cbc0038I Pass   1: suminf.    2.35707 (12) obj. 12.9614 iterations 32\n",
      "Cbc0038I Pass   2: suminf.    2.35707 (12) obj. 12.9614 iterations 0\n",
      "Cbc0038I Pass   3: suminf.    0.13917 (8) obj. 55 iterations 30\n",
      "Cbc0038I Pass   4: suminf.    0.20406 (8) obj. 55 iterations 4\n",
      "Cbc0038I Pass   5: suminf.    0.20406 (8) obj. 55 iterations 0\n",
      "Cbc0038I Pass   6: suminf.    0.23295 (8) obj. 55 iterations 2\n",
      "Cbc0038I Pass   7: suminf.    0.23295 (8) obj. 55 iterations 0\n",
      "Cbc0038I Pass   8: suminf.    0.20406 (8) obj. 55 iterations 2\n",
      "Cbc0038I Pass   9: suminf.    1.54129 (31) obj. 62 iterations 93\n",
      "Cbc0038I Pass  10: suminf.    0.87826 (29) obj. 62 iterations 6\n",
      "Cbc0038I Pass  11: suminf.    0.17887 (21) obj. 62 iterations 36\n",
      "Cbc0038I Pass  12: suminf.    0.14912 (10) obj. 62 iterations 18\n",
      "Cbc0038I Pass  13: suminf.    0.03555 (7) obj. 62 iterations 17\n",
      "Cbc0038I Pass  14: suminf.    0.03555 (7) obj. 62 iterations 0\n",
      "Cbc0038I Pass  15: suminf.    0.14259 (5) obj. 62 iterations 5\n",
      "Cbc0038I Pass  16: suminf.    0.14259 (5) obj. 62 iterations 0\n",
      "Cbc0038I Pass  17: suminf.    0.05957 (6) obj. 62 iterations 6\n",
      "Cbc0038I Pass  18: suminf.    0.05957 (6) obj. 62 iterations 0\n",
      "Cbc0038I Pass  19: suminf.    0.22503 (5) obj. 62 iterations 4\n",
      "Cbc0038I Pass  20: suminf.    0.22503 (5) obj. 62 iterations 0\n",
      "Cbc0038I Pass  21: suminf.    0.11650 (6) obj. 62.0518 iterations 3\n",
      "Cbc0038I Pass  22: suminf.    0.11618 (6) obj. 62 iterations 1\n",
      "Cbc0038I Pass  23: suminf.    0.13844 (5) obj. 62 iterations 4\n",
      "Cbc0038I Pass  24: suminf.    0.13844 (5) obj. 62 iterations 0\n",
      "Cbc0038I Pass  25: suminf.    1.94431 (46) obj. 61.6847 iterations 58\n",
      "Cbc0038I Pass  26: suminf.    1.72493 (45) obj. 61.6848 iterations 1\n",
      "Cbc0038I Pass  27: suminf.    0.55407 (25) obj. 61.4619 iterations 21\n",
      "Cbc0038I Pass  28: suminf.    0.77419 (15) obj. 61 iterations 13\n",
      "Cbc0038I Pass  29: suminf.    0.32550 (14) obj. 61 iterations 3\n",
      "Cbc0038I Pass  30: suminf.    0.20406 (8) obj. 61 iterations 31\n",
      "Cbc0038I No solution found this major pass\n",
      "Cbc0038I Before mini branch and bound, 154 integers at bound fixed and 0 continuous\n",
      "Cbc0038I Full problem 405 rows 271 columns, reduced to 291 rows 117 columns - too large\n",
      "Cbc0038I Mini branch and bound did not improve solution (0.23 seconds)\n",
      "Cbc0038I Full problem 406 rows 271 columns, reduced to 406 rows 271 columns - too large\n",
      "Cbc0038I After 0.23 seconds - Feasibility pump exiting - took 0.04 seconds\n",
      "Cbc0012I Integer solution of 8 found by DiveCoefficient after 146 iterations and 0 nodes (0.27 seconds)\n",
      "Cbc0031I 53 added rows had average density of 6.3773585\n",
      "Cbc0013I At root node, 53 cuts changed objective from 8 to 8 in 6 passes\n",
      "Cbc0014I Cut generator 0 (Probing) - 613 row cuts average 6.8 elements, 0 column cuts (0 active)  in 0.015 seconds - new frequency is 1\n",
      "Cbc0014I Cut generator 1 (Gomory) - 38 row cuts average 22.1 elements, 0 column cuts (0 active)  in 0.001 seconds - new frequency is 1\n",
      "Cbc0014I Cut generator 2 (Knapsack) - 1 row cuts average 2.0 elements, 0 column cuts (0 active)  in 0.001 seconds - new frequency is -100\n",
      "Cbc0014I Cut generator 3 (Clique) - 0 row cuts average 0.0 elements, 0 column cuts (0 active)  in 0.000 seconds - new frequency is -100\n",
      "Cbc0014I Cut generator 4 (MixedIntegerRounding2) - 53 row cuts average 3.0 elements, 0 column cuts (0 active)  in 0.002 seconds - new frequency is 1\n",
      "Cbc0014I Cut generator 5 (FlowCover) - 0 row cuts average 0.0 elements, 0 column cuts (0 active)  in 0.001 seconds - new frequency is -100\n",
      "Cbc0014I Cut generator 6 (TwoMirCuts) - 107 row cuts average 22.9 elements, 0 column cuts (0 active)  in 0.002 seconds - new frequency is -100\n",
      "Cbc0001I Search completed - best objective 8, took 146 iterations and 0 nodes (0.27 seconds)\n",
      "Cbc0035I Maximum depth 0, 0 variables fixed on reduced cost\n",
      "Cuts at root node changed objective from 8 to 8\n",
      "Probing was tried 6 times and created 613 cuts of which 0 were active after adding rounds of cuts (0.015 seconds)\n",
      "Gomory was tried 6 times and created 38 cuts of which 0 were active after adding rounds of cuts (0.001 seconds)\n",
      "Knapsack was tried 6 times and created 1 cuts of which 0 were active after adding rounds of cuts (0.001 seconds)\n",
      "Clique was tried 6 times and created 0 cuts of which 0 were active after adding rounds of cuts (0.000 seconds)\n",
      "MixedIntegerRounding2 was tried 6 times and created 53 cuts of which 0 were active after adding rounds of cuts (0.002 seconds)\n",
      "FlowCover was tried 6 times and created 0 cuts of which 0 were active after adding rounds of cuts (0.001 seconds)\n",
      "TwoMirCuts was tried 6 times and created 107 cuts of which 0 were active after adding rounds of cuts (0.002 seconds)\n",
      "ZeroHalf was tried 1 times and created 0 cuts of which 0 were active after adding rounds of cuts (0.000 seconds)\n",
      "\n",
      "Result - Optimal solution found\n",
      "\n",
      "Objective value:                8.00000000\n",
      "Enumerated nodes:               0\n",
      "Total iterations:               146\n",
      "Time (CPU seconds):             0.24\n",
      "Time (Wallclock seconds):       0.27\n",
      "\n",
      "Option for printingOptions changed from normal to all\n",
      "Total time (CPU seconds):       0.24   (Wallclock seconds):       0.28\n",
      "\n"
     ]
    }
   ],
   "source": [
    "# Scheduler\n",
    "MILQ_extend.example_problem(bigM, timesteps, \"./results/MILQ/MILQ_extend\")\n"
   ]
  },
  {
   "cell_type": "code",
   "execution_count": 11,
   "metadata": {},
   "outputs": [
    {
     "name": "stdout",
     "output_type": "stream",
     "text": [
      "  job  qubits machine  capacity  start  end  duration\n",
      "0   A       2   BELEM         5    0.0  0.0       0.0\n",
      "1   B       3   QUITO         5    0.0  8.0       8.0\n"
     ]
    },
    {
     "data": {
      "image/png": "[encoded data removed]",
      "text/plain": [
       "<Figure size 640x480 with 1 Axes>"
      ]
     },
     "metadata": {},
     "output_type": "display_data"
    }
   ],
   "source": [
    "# Visualize\n",
    "from visualize import visualize_lp\n",
    "\n",
    "visualize_lp.visualize(\"results/MILQ/MILQ_extend.json\")\n"
   ]
  },
  {
   "cell_type": "code",
   "execution_count": 12,
   "metadata": {},
   "outputs": [],
   "source": [
    "\n",
    "# Analyze"
   ]
  }
 ],
 "metadata": {
  "kernelspec": {
   "display_name": "MILQ",
   "language": "python",
   "name": "python3"
  },
  "language_info": {
   "codemirror_mode": {
    "name": "ipython",
    "version": 3
   },
   "file_extension": ".py",
   "mimetype": "text/x-python",
   "name": "python",
   "nbconvert_exporter": "python",
   "pygments_lexer": "ipython3",
   "version": "3.10.16"
  }
 },
 "nbformat": 4,
 "nbformat_minor": 2
}
