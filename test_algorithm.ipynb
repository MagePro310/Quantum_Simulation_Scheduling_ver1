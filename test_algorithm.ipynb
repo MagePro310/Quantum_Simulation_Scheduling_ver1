{
 "cells": [
  {
   "cell_type": "code",
   "execution_count": 11,
   "metadata": {},
   "outputs": [
    {
     "name": "stdout",
     "output_type": "stream",
     "text": [
      "The autoreload extension is already loaded. To reload it, use:\n",
      "  %reload_ext autoreload\n"
     ]
    }
   ],
   "source": [
    "%load_ext autoreload\n"
   ]
  },
  {
   "cell_type": "code",
   "execution_count": 12,
   "metadata": {},
   "outputs": [],
   "source": [
    "%autoreload 2"
   ]
  },
  {
   "cell_type": "code",
   "execution_count": 13,
   "metadata": {},
   "outputs": [],
   "source": [
    "#\n",
    "import sys\n",
    "sys.path.append('./')"
   ]
  },
  {
   "cell_type": "code",
   "execution_count": 14,
   "metadata": {},
   "outputs": [],
   "source": [
    "# General imports\n",
    "import json\n",
    "from qiskit import QuantumCircuit\n",
    "import numpy as np\n",
    "from dataclasses import dataclass\n",
    "from enum import auto, Enum"
   ]
  },
  {
   "cell_type": "code",
   "execution_count": 15,
   "metadata": {},
   "outputs": [],
   "source": [
    "@dataclass\n",
    "class SchedulerType(Enum):\n",
    "    \"\"\"The type of scheduler to use.\"\"\"\n",
    "\n",
    "    BASELINE = auto()\n",
    "    SIMPLE = auto()\n",
    "    EXTENDED = auto()  "
   ]
  },
  {
   "cell_type": "code",
   "execution_count": 16,
   "metadata": {},
   "outputs": [],
   "source": [
    "# Configuration\n",
    "# 1. Number of Jobs in the batch\n",
    "jobs = {\"A\": 1, \"B\": 2, \"C\": 3, \"D\": 4, \"E\": 5}\n",
    "# 2. Number of machines\n",
    "machines = {\"QUITO\": 5, \"BELEM\": 5}\n",
    "# 3. Scheduling type\n",
    "name_schedule = SchedulerType.EXTENDED\n"
   ]
  },
  {
   "cell_type": "code",
   "execution_count": 17,
   "metadata": {},
   "outputs": [],
   "source": [
    "# Setup\n",
    "bigM = 1000000\n",
    "timesteps = 2**5\n",
    "\n",
    "from component.d_scheduling.algorithm.ilp.MILQ_extend import MILQ_extend_implementation"
   ]
  },
  {
   "cell_type": "code",
   "execution_count": 18,
   "metadata": {},
   "outputs": [
    {
     "name": "stdout",
     "output_type": "stream",
     "text": [
      "Processing times for 0: [0, 0]\n",
      "Processing times for A: [7, 9]\n",
      "Processing times for B: [9, 8]\n",
      "Setup times for 0 and 0: [50, 50]\n",
      "Setup times for 0 and A: [0, 0]\n",
      "Setup times for 0 and B: [0, 0]\n",
      "Setup times for A and 0: [50, 50]\n",
      "Setup times for A and A: [50, 50]\n",
      "Setup times for A and B: [9, 6]\n",
      "Setup times for B and 0: [50, 50]\n",
      "Setup times for B and A: [8, 6]\n",
      "Setup times for B and B: [50, 50]\n",
      "Problem:\n",
      "[<qiskit.circuit.quantumcircuit.QuantumCircuit object at 0x7ea2c4110640>, <qiskit.circuit.quantumcircuit.QuantumCircuit object at 0x7ea2771c0220>]\n",
      "Job Capacities:\n",
      "{'A': 2, 'B': 3}\n",
      "Run info\n",
      "Jobs in define_lp:\n",
      "['0', '1', '2']\n",
      "Jobs:\n",
      "2\n",
      "3\n",
      "Jobs in set_up_extended_lp:\n",
      "0\n",
      "1\n",
      "2\n",
      "Machines in set_up_extended_lp:\n",
      "QUITO\n",
      "BELEM\n",
      "Process times:\n",
      "[[0, 0], [7, 9], [9, 8]]\n",
      "Process times:\n",
      "defaultdict(<function __makeDict.<locals>.<lambda> at 0x7ea277179fc0>, {'1': defaultdict(<function __makeDict.<locals>.<lambda> at 0x7ea2c41604c0>, {'QUITO': 0, 'BELEM': 0}), '2': defaultdict(<function __makeDict.<locals>.<lambda> at 0x7ea27717a0e0>, {'QUITO': 7, 'BELEM': 9})})\n",
      "Setup time for job 0 on job 0 on machine QUITO: 50\n",
      "Setup time for job 0 on job 0 on machine BELEM: 50\n",
      "Setup time for job 0 on job 1 on machine QUITO: 0\n",
      "Setup time for job 0 on job 1 on machine BELEM: 0\n",
      "Setup time for job 0 on job 2 on machine QUITO: 0\n",
      "Setup time for job 0 on job 2 on machine BELEM: 0\n",
      "Setup time for job 1 on job 0 on machine QUITO: 50\n",
      "Setup time for job 1 on job 0 on machine BELEM: 50\n",
      "Setup time for job 1 on job 1 on machine QUITO: 50\n",
      "Setup time for job 1 on job 1 on machine BELEM: 50\n",
      "Setup time for job 1 on job 2 on machine QUITO: 9\n",
      "Setup time for job 1 on job 2 on machine BELEM: 6\n",
      "Setup time for job 2 on job 0 on machine QUITO: 50\n",
      "Setup time for job 2 on job 0 on machine BELEM: 50\n",
      "Setup time for job 2 on job 1 on machine QUITO: 8\n",
      "Setup time for job 2 on job 1 on machine BELEM: 6\n",
      "Setup time for job 2 on job 2 on machine QUITO: 50\n",
      "Setup time for job 2 on job 2 on machine BELEM: 50\n",
      "Welcome to the CBC MILP Solver \n",
      "Version: 2.10.3 \n",
      "Build Date: Dec 15 2019 \n",
      "\n",
      "command line - /home/trieu/anaconda3/envs/MILQ/lib/python3.10/site-packages/pulp/solverdir/cbc/linux/64/cbc /tmp/02ef48a21cae4600acced3f6f01f8e38-pulp.mps timeMode elapsed branch printingOptions all solution /tmp/02ef48a21cae4600acced3f6f01f8e38-pulp.sol (default strategy 1)\n",
      "At line 2 NAME          MODEL\n",
      "At line 3 ROWS\n",
      "At line 322 COLUMNS\n",
      "At line 1787 RHS\n",
      "At line 2105 BOUNDS\n",
      "At line 2286 ENDATA\n",
      "Problem MODEL has 317 rows, 186 columns and 1103 elements\n",
      "Coin0008I MODEL read with 0 errors\n",
      "Option for timeMode changed from cpu to elapsed\n",
      "Continuous objective value is 7 - 0.00 seconds\n",
      "Cgl0002I 4 variables fixed\n",
      "Cgl0003I 0 fixed, 0 tightened bounds, 205 strengthened rows, 0 substitutions\n",
      "Cgl0003I 0 fixed, 0 tightened bounds, 198 strengthened rows, 0 substitutions\n",
      "Cgl0003I 0 fixed, 0 tightened bounds, 114 strengthened rows, 0 substitutions\n",
      "Cgl0003I 0 fixed, 0 tightened bounds, 105 strengthened rows, 0 substitutions\n",
      "Cgl0003I 0 fixed, 0 tightened bounds, 96 strengthened rows, 0 substitutions\n",
      "Cgl0003I 0 fixed, 0 tightened bounds, 89 strengthened rows, 0 substitutions\n",
      "Cgl0003I 0 fixed, 0 tightened bounds, 37 strengthened rows, 0 substitutions\n",
      "Cgl0003I 0 fixed, 0 tightened bounds, 37 strengthened rows, 0 substitutions\n",
      "Cgl0003I 0 fixed, 0 tightened bounds, 36 strengthened rows, 0 substitutions\n",
      "Cgl0004I processed model has 217 rows, 143 columns (138 integer (138 of which binary)) and 1765 elements\n",
      "Cbc0038I Initial state - 17 integers unsatisfied sum - 4.3719\n",
      "Cbc0038I Pass   1: suminf.    0.50023 (13) obj. 16.9999 iterations 38\n",
      "Cbc0038I Pass   2: suminf.    0.00023 (12) obj. 16.9999 iterations 1\n",
      "Cbc0038I Pass   3: suminf.    0.00023 (12) obj. 16.9999 iterations 0\n",
      "Cbc0038I Pass   4: suminf.    1.00009 (29) obj. 31.0002 iterations 46\n",
      "Cbc0038I Pass   5: suminf.    1.00009 (29) obj. 31.0002 iterations 0\n",
      "Cbc0038I Pass   6: suminf.    0.00144 (26) obj. 31 iterations 6\n",
      "Cbc0038I Pass   7: suminf.    0.00144 (26) obj. 31 iterations 0\n",
      "Cbc0038I Pass   8: suminf.    0.53448 (36) obj. 1018.99 iterations 52\n",
      "Cbc0038I Pass   9: suminf.    0.53447 (34) obj. 1018.98 iterations 2\n",
      "Cbc0038I Pass  10: suminf.    0.33574 (30) obj. 45.9998 iterations 10\n",
      "Cbc0038I Pass  11: suminf.    0.33474 (30) obj. 45.9998 iterations 9\n",
      "Cbc0038I Pass  12: suminf.    0.97032 (41) obj. 52.9973 iterations 27\n",
      "Cbc0038I Pass  13: suminf.    0.33813 (39) obj. 52.9973 iterations 5\n",
      "Cbc0038I Pass  14: suminf.    0.50257 (38) obj. 51.9996 iterations 3\n",
      "Cbc0038I Pass  15: suminf.    0.33491 (38) obj. 51.9996 iterations 2\n",
      "Cbc0038I Pass  16: suminf.    0.34316 (41) obj. 55.9993 iterations 21\n",
      "Cbc0038I Pass  17: suminf.    0.33919 (40) obj. 55.9953 iterations 4\n",
      "Cbc0038I Pass  18: suminf.    0.47133 (39) obj. 54.9996 iterations 8\n",
      "Cbc0038I Pass  19: suminf.    0.33491 (39) obj. 54.9996 iterations 11\n",
      "Cbc0038I Pass  20: suminf.    0.33489 (39) obj. 54.9996 iterations 20\n",
      "Cbc0038I Pass  21: suminf.    0.33489 (39) obj. 54.9996 iterations 1\n",
      "Cbc0038I Pass  22: suminf.    0.37755 (39) obj. 54.9996 iterations 8\n",
      "Cbc0038I Pass  23: suminf.    0.34816 (36) obj. 50.9997 iterations 26\n",
      "Cbc0038I Pass  24: suminf.    0.34618 (36) obj. 50.9997 iterations 4\n",
      "Cbc0038I Pass  25: suminf.    0.33477 (36) obj. 50.9997 iterations 4\n",
      "Cbc0038I Pass  26: suminf.    0.18993 (37) obj. 49.9997 iterations 23\n",
      "Cbc0038I Pass  27: suminf.    0.18993 (37) obj. 49.9997 iterations 5\n",
      "Cbc0038I Pass  28: suminf.    0.34619 (37) obj. 49.9997 iterations 7\n",
      "Cbc0038I Pass  29: suminf.    0.09620 (37) obj. 49.9997 iterations 3\n",
      "Cbc0038I Pass  30: suminf.    0.78236 (23) obj. 31 iterations 50\n",
      "Cbc0038I No solution found this major pass\n",
      "Cbc0038I Before mini branch and bound, 39 integers at bound fixed and 0 continuous\n",
      "Cbc0038I Full problem 217 rows 143 columns, reduced to 217 rows 104 columns - too large\n",
      "Cbc0038I Mini branch and bound did not improve solution (0.08 seconds)\n",
      "Cbc0038I Full problem 218 rows 143 columns, reduced to 218 rows 143 columns - too large\n",
      "Cbc0038I After 0.08 seconds - Feasibility pump exiting - took 0.01 seconds\n",
      "Cbc0012I Integer solution of 7 found by DiveCoefficient after 58 iterations and 0 nodes (0.09 seconds)\n",
      "Cbc0031I 13 added rows had average density of 13.538462\n",
      "Cbc0013I At root node, 13 cuts changed objective from 7 to 7 in 4 passes\n",
      "Cbc0014I Cut generator 0 (Probing) - 48 row cuts average 7.0 elements, 1 column cuts (1 active)  in 0.003 seconds - new frequency is 1\n",
      "Cbc0014I Cut generator 1 (Gomory) - 23 row cuts average 18.6 elements, 0 column cuts (0 active)  in 0.000 seconds - new frequency is 1\n",
      "Cbc0014I Cut generator 2 (Knapsack) - 2 row cuts average 2.5 elements, 0 column cuts (0 active)  in 0.000 seconds - new frequency is 1\n",
      "Cbc0014I Cut generator 3 (Clique) - 0 row cuts average 0.0 elements, 0 column cuts (0 active)  in 0.000 seconds - new frequency is -100\n",
      "Cbc0014I Cut generator 4 (MixedIntegerRounding2) - 20 row cuts average 4.0 elements, 0 column cuts (0 active)  in 0.001 seconds - new frequency is 1\n",
      "Cbc0014I Cut generator 5 (FlowCover) - 0 row cuts average 0.0 elements, 0 column cuts (0 active)  in 0.000 seconds - new frequency is -100\n",
      "Cbc0014I Cut generator 6 (TwoMirCuts) - 44 row cuts average 15.8 elements, 0 column cuts (0 active)  in 0.001 seconds - new frequency is -100\n",
      "Cbc0001I Search completed - best objective 7, took 58 iterations and 0 nodes (0.09 seconds)\n",
      "Cbc0035I Maximum depth 0, 0 variables fixed on reduced cost\n",
      "Cuts at root node changed objective from 7 to 7\n",
      "Probing was tried 4 times and created 49 cuts of which 0 were active after adding rounds of cuts (0.003 seconds)\n",
      "Gomory was tried 4 times and created 23 cuts of which 0 were active after adding rounds of cuts (0.000 seconds)\n",
      "Knapsack was tried 4 times and created 2 cuts of which 0 were active after adding rounds of cuts (0.000 seconds)\n",
      "Clique was tried 4 times and created 0 cuts of which 0 were active after adding rounds of cuts (0.000 seconds)\n",
      "MixedIntegerRounding2 was tried 4 times and created 20 cuts of which 0 were active after adding rounds of cuts (0.001 seconds)\n",
      "FlowCover was tried 4 times and created 0 cuts of which 0 were active after adding rounds of cuts (0.000 seconds)\n",
      "TwoMirCuts was tried 4 times and created 44 cuts of which 0 were active after adding rounds of cuts (0.001 seconds)\n",
      "ZeroHalf was tried 1 times and created 0 cuts of which 0 were active after adding rounds of cuts (0.000 seconds)\n",
      "\n",
      "Result - Optimal solution found\n",
      "\n",
      "Objective value:                7.00000000\n",
      "Enumerated nodes:               0\n",
      "Total iterations:               58\n",
      "Time (CPU seconds):             0.08\n",
      "Time (Wallclock seconds):       0.09\n",
      "\n",
      "Option for printingOptions changed from normal to all\n",
      "Total time (CPU seconds):       0.08   (Wallclock seconds):       0.09\n",
      "\n"
     ]
    }
   ],
   "source": [
    "# Scheduler\n",
    "MILQ_extend_implementation.example_problem(bigM, timesteps, \"component/d_scheduling/algorithm/ilp/MILQ_extend/MILQ_extend_result\")\n"
   ]
  },
  {
   "cell_type": "code",
   "execution_count": 19,
   "metadata": {},
   "outputs": [
    {
     "name": "stdout",
     "output_type": "stream",
     "text": [
      "  job  qubits machine  capacity  start  end  duration\n",
      "0   A       2   BELEM         5    0.0  0.0       0.0\n",
      "1   B       3   QUITO         5    0.0  7.0       7.0\n"
     ]
    },
    {
     "data": {
      "image/png": "[encoded data removed]",
      "text/plain": [
       "<Figure size 640x480 with 1 Axes>"
      ]
     },
     "metadata": {},
     "output_type": "display_data"
    }
   ],
   "source": [
    "# Visualize\n",
    "from component.d_scheduling.visualize import ilp\n",
    "\n",
    "ilp.visualize(\"component/d_scheduling/algorithm/ilp/MILQ_extend/MILQ_extend_result.json\")\n"
   ]
  },
  {
   "cell_type": "code",
   "execution_count": 20,
   "metadata": {},
   "outputs": [],
   "source": [
    "\n",
    "# Analyze"
   ]
  }
 ],
 "metadata": {
  "kernelspec": {
   "display_name": "MILQ",
   "language": "python",
   "name": "python3"
  },
  "language_info": {
   "codemirror_mode": {
    "name": "ipython",
    "version": 3
   },
   "file_extension": ".py",
   "mimetype": "text/x-python",
   "name": "python",
   "nbconvert_exporter": "python",
   "pygments_lexer": "ipython3",
   "version": "3.10.16"
  }
 },
 "nbformat": 4,
 "nbformat_minor": 2
}
