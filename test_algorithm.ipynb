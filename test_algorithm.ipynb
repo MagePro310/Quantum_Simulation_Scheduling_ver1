{
 "cells": [
  {
   "cell_type": "code",
   "execution_count": 17,
   "metadata": {},
   "outputs": [
    {
     "name": "stdout",
     "output_type": "stream",
     "text": [
      "The autoreload extension is already loaded. To reload it, use:\n",
      "  %reload_ext autoreload\n"
     ]
    }
   ],
   "source": [
    "%load_ext autoreload\n"
   ]
  },
  {
   "cell_type": "code",
   "execution_count": 18,
   "metadata": {},
   "outputs": [],
   "source": [
    "%autoreload 2"
   ]
  },
  {
   "cell_type": "code",
   "execution_count": 19,
   "metadata": {},
   "outputs": [],
   "source": [
    "#\n",
    "import sys\n",
    "sys.path.append('./')"
   ]
  },
  {
   "cell_type": "code",
   "execution_count": 20,
   "metadata": {},
   "outputs": [],
   "source": [
    "# General imports\n",
    "import json\n",
    "from qiskit import QuantumCircuit\n",
    "import numpy as np\n",
    "from dataclasses import dataclass\n",
    "from enum import auto, Enum"
   ]
  },
  {
   "cell_type": "code",
   "execution_count": 21,
   "metadata": {},
   "outputs": [],
   "source": [
    "@dataclass\n",
    "class SchedulerType(Enum):\n",
    "    \"\"\"The type of scheduler to use.\"\"\"\n",
    "\n",
    "    BASELINE = auto()\n",
    "    SIMPLE = auto()\n",
    "    EXTENDED = auto()  "
   ]
  },
  {
   "cell_type": "code",
   "execution_count": 22,
   "metadata": {},
   "outputs": [],
   "source": [
    "# Configuration\n",
    "# 1. Number of Jobs in the batch\n",
    "jobs = {\"A\": 1, \"B\": 2, \"C\": 3, \"D\": 4, \"E\": 5}\n",
    "# 2. Number of machines\n",
    "machines = {\"QUITO\": 5, \"BELEM\": 5}\n",
    "# 3. Scheduling type\n",
    "name_schedule = SchedulerType.EXTENDED\n"
   ]
  },
  {
   "cell_type": "code",
   "execution_count": null,
   "metadata": {},
   "outputs": [],
   "source": []
  },
  {
   "cell_type": "code",
   "execution_count": 23,
   "metadata": {},
   "outputs": [],
   "source": [
    "# Setup\n",
    "if name_schedule == SchedulerType.EXTENDED:\n",
    "    from src.algorithm import MILQ\n",
    "    bigM = 1000\n",
    "    timesteps = 2**6"
   ]
  },
  {
   "cell_type": "code",
   "execution_count": 24,
   "metadata": {},
   "outputs": [
    {
     "name": "stdout",
     "output_type": "stream",
     "text": [
      "go\n",
      "Processing times for 0: [0, 0]\n",
      "Processing times for A: [7, 9]\n",
      "Processing times for B: [6, 7]\n",
      "Processing times for C: [11, 8]\n",
      "Setup times for 0 and 0: [50, 50]\n",
      "Setup times for 0 and A: [0, 0]\n",
      "Setup times for 0 and B: [0, 0]\n",
      "Setup times for 0 and C: [0, 0]\n",
      "Setup times for A and 0: [50, 50]\n",
      "Setup times for A and A: [50, 50]\n",
      "Setup times for A and B: [8, 6]\n",
      "Setup times for A and C: [7, 6]\n",
      "Setup times for B and 0: [50, 50]\n",
      "Setup times for B and A: [6, 9]\n",
      "Setup times for B and B: [50, 50]\n",
      "Setup times for B and C: [8, 10]\n",
      "Setup times for C and 0: [50, 50]\n",
      "Setup times for C and A: [9, 9]\n",
      "Setup times for C and B: [10, 11]\n",
      "Setup times for C and C: [50, 50]\n",
      "Problem:\n",
      "[<qiskit.circuit.quantumcircuit.QuantumCircuit object at 0x7ff1631f4c70>, <qiskit.circuit.quantumcircuit.QuantumCircuit object at 0x7ff1631f4bb0>, <qiskit.circuit.quantumcircuit.QuantumCircuit object at 0x7ff1631f4af0>]\n",
      "Job Capacities:\n",
      "{'A': 2, 'B': 3, 'C': 5}\n",
      "Run info\n",
      "Jobs in define_lp:\n",
      "['0', '1', '2', '3']\n",
      "Jobs:\n",
      "2\n",
      "3\n",
      "5\n",
      "Jobs in set_up_extended_lp:\n",
      "0\n",
      "1\n",
      "2\n",
      "3\n",
      "Machines in set_up_extended_lp:\n",
      "QUITO\n",
      "BELEM\n",
      "Process times:\n",
      "[[0, 0], [7, 9], [6, 7], [11, 8]]\n",
      "Process times:\n",
      "defaultdict(<function __makeDict.<locals>.<lambda> at 0x7ff15897fc70>, {'1': defaultdict(<function __makeDict.<locals>.<lambda> at 0x7ff1631b3e20>, {'QUITO': 0, 'BELEM': 0}), '2': defaultdict(<function __makeDict.<locals>.<lambda> at 0x7ff15897cc10>, {'QUITO': 7, 'BELEM': 9}), '3': defaultdict(<function __makeDict.<locals>.<lambda> at 0x7ff15897e050>, {'QUITO': 6, 'BELEM': 7})})\n",
      "Setup time for job 0 on job 0 on machine QUITO: 50\n",
      "Setup time for job 0 on job 0 on machine BELEM: 50\n",
      "Setup time for job 0 on job 1 on machine QUITO: 0\n",
      "Setup time for job 0 on job 1 on machine BELEM: 0\n",
      "Setup time for job 0 on job 2 on machine QUITO: 0\n",
      "Setup time for job 0 on job 2 on machine BELEM: 0\n",
      "Setup time for job 0 on job 3 on machine QUITO: 0\n",
      "Setup time for job 0 on job 3 on machine BELEM: 0\n",
      "Setup time for job 1 on job 0 on machine QUITO: 50\n",
      "Setup time for job 1 on job 0 on machine BELEM: 50\n",
      "Setup time for job 1 on job 1 on machine QUITO: 50\n",
      "Setup time for job 1 on job 1 on machine BELEM: 50\n",
      "Setup time for job 1 on job 2 on machine QUITO: 8\n",
      "Setup time for job 1 on job 2 on machine BELEM: 6\n",
      "Setup time for job 1 on job 3 on machine QUITO: 7\n",
      "Setup time for job 1 on job 3 on machine BELEM: 6\n",
      "Setup time for job 2 on job 0 on machine QUITO: 50\n",
      "Setup time for job 2 on job 0 on machine BELEM: 50\n",
      "Setup time for job 2 on job 1 on machine QUITO: 6\n",
      "Setup time for job 2 on job 1 on machine BELEM: 9\n",
      "Setup time for job 2 on job 2 on machine QUITO: 50\n",
      "Setup time for job 2 on job 2 on machine BELEM: 50\n",
      "Setup time for job 2 on job 3 on machine QUITO: 8\n",
      "Setup time for job 2 on job 3 on machine BELEM: 10\n",
      "Setup time for job 3 on job 0 on machine QUITO: 50\n",
      "Setup time for job 3 on job 0 on machine BELEM: 50\n",
      "Setup time for job 3 on job 1 on machine QUITO: 9\n",
      "Setup time for job 3 on job 1 on machine BELEM: 9\n",
      "Setup time for job 3 on job 2 on machine QUITO: 10\n",
      "Setup time for job 3 on job 2 on machine BELEM: 11\n",
      "Setup time for job 3 on job 3 on machine QUITO: 50\n",
      "Setup time for job 3 on job 3 on machine BELEM: 50\n",
      "Welcome to the CBC MILP Solver \n",
      "Version: 2.10.3 \n",
      "Build Date: Dec 15 2019 \n",
      "\n",
      "command line - /home/trieu/anaconda3/envs/MILQ/lib/python3.10/site-packages/pulp/solverdir/cbc/linux/64/cbc /tmp/c1b55226e7ba47c1893f95d6b2f91422-pulp.mps timeMode elapsed branch printingOptions all solution /tmp/c1b55226e7ba47c1893f95d6b2f91422-pulp.sol (default strategy 1)\n",
      "At line 2 NAME          MODEL\n",
      "At line 3 ROWS\n",
      "At line 845 COLUMNS\n",
      "At line 5100 RHS\n",
      "At line 5941 BOUNDS\n",
      "At line 6452 ENDATA\n",
      "Problem MODEL has 840 rows, 518 columns and 3233 elements\n",
      "Coin0008I MODEL read with 0 errors\n",
      "Option for timeMode changed from cpu to elapsed\n",
      "Continuous objective value is 7 - 0.00 seconds\n",
      "Cgl0002I 6 variables fixed\n",
      "Cgl0003I 0 fixed, 0 tightened bounds, 394 strengthened rows, 0 substitutions\n",
      "Cgl0003I 0 fixed, 0 tightened bounds, 373 strengthened rows, 0 substitutions\n",
      "Cgl0003I 0 fixed, 0 tightened bounds, 353 strengthened rows, 0 substitutions\n",
      "Cgl0003I 0 fixed, 0 tightened bounds, 353 strengthened rows, 0 substitutions\n",
      "Cgl0003I 0 fixed, 0 tightened bounds, 304 strengthened rows, 0 substitutions\n",
      "Cgl0003I 0 fixed, 0 tightened bounds, 296 strengthened rows, 0 substitutions\n",
      "Cgl0003I 0 fixed, 0 tightened bounds, 282 strengthened rows, 0 substitutions\n",
      "Cgl0003I 0 fixed, 0 tightened bounds, 276 strengthened rows, 0 substitutions\n",
      "Cgl0003I 0 fixed, 0 tightened bounds, 219 strengthened rows, 0 substitutions\n",
      "Cgl0004I processed model has 783 rows, 448 columns (441 integer (441 of which binary)) and 5851 elements\n",
      "Cbc0038I Initial state - 46 integers unsatisfied sum - 8.25448\n",
      "Cbc0038I Pass   1: suminf.    4.01512 (25) obj. 9.99015 iterations 93\n",
      "Cbc0038I Pass   2: suminf.    3.34738 (23) obj. 9.99015 iterations 13\n",
      "Cbc0038I Pass   3: suminf.    3.02634 (26) obj. 11.9912 iterations 13\n",
      "Cbc0038I Pass   4: suminf.    0.74397 (25) obj. 59.7196 iterations 30\n",
      "Cbc0038I Pass   5: suminf.    1.13880 (17) obj. 62 iterations 50\n",
      "Cbc0038I Pass   6: suminf.    0.99085 (15) obj. 62 iterations 5\n",
      "Cbc0038I Pass   7: suminf.    0.55908 (15) obj. 62 iterations 7\n",
      "Cbc0038I Pass   8: suminf.    0.55815 (15) obj. 62 iterations 3\n",
      "Cbc0038I Pass   9: suminf.    1.65952 (13) obj. 62 iterations 16\n",
      "Cbc0038I Pass  10: suminf.    0.83877 (13) obj. 62 iterations 5\n",
      "Cbc0038I Pass  11: suminf.    2.18199 (14) obj. 62 iterations 13\n",
      "Cbc0038I Pass  12: suminf.    0.58247 (13) obj. 62 iterations 7\n",
      "Cbc0038I Pass  13: suminf.    0.58247 (13) obj. 62 iterations 0\n",
      "Cbc0038I Pass  14: suminf.    2.34002 (15) obj. 62 iterations 10\n",
      "Cbc0038I Pass  15: suminf.    0.87085 (13) obj. 62 iterations 11\n",
      "Cbc0038I Pass  16: suminf.    0.87085 (13) obj. 62 iterations 0\n",
      "Cbc0038I Pass  17: suminf.    2.18198 (13) obj. 62 iterations 9\n",
      "Cbc0038I Pass  18: suminf.    0.58247 (13) obj. 62 iterations 7\n",
      "Cbc0038I Pass  19: suminf.    0.58247 (13) obj. 62 iterations 0\n",
      "Cbc0038I Pass  20: suminf.    2.34002 (15) obj. 62 iterations 10\n",
      "Cbc0038I Pass  21: suminf.    0.87085 (13) obj. 62 iterations 11\n",
      "Cbc0038I Pass  22: suminf.    0.87085 (13) obj. 62 iterations 0\n",
      "Cbc0038I Pass  23: suminf.    2.18199 (14) obj. 62 iterations 10\n",
      "Cbc0038I Pass  24: suminf.    0.58247 (13) obj. 62 iterations 7\n",
      "Cbc0038I Pass  25: suminf.    0.58247 (13) obj. 62 iterations 0\n",
      "Cbc0038I Pass  26: suminf.    2.34002 (15) obj. 62 iterations 10\n",
      "Cbc0038I Pass  27: suminf.    0.87085 (13) obj. 62 iterations 11\n",
      "Cbc0038I Pass  28: suminf.    0.87085 (13) obj. 62 iterations 0\n",
      "Cbc0038I Pass  29: suminf.    2.18199 (14) obj. 62 iterations 10\n",
      "Cbc0038I Pass  30: suminf.    0.58247 (13) obj. 62 iterations 7\n",
      "Cbc0038I No solution found this major pass\n",
      "Cbc0038I Before mini branch and bound, 362 integers at bound fixed and 0 continuous\n",
      "Cbc0038I Full problem 783 rows 448 columns, reduced to 223 rows 53 columns\n",
      "Cbc0038I Mini branch and bound did not improve solution (0.32 seconds)\n",
      "Cbc0038I Full problem 784 rows 448 columns, reduced to 784 rows 448 columns - too large\n",
      "Cbc0038I After 0.32 seconds - Feasibility pump exiting - took 0.09 seconds\n",
      "Cbc0012I Integer solution of 7 found by DiveCoefficient after 702 iterations and 0 nodes (0.43 seconds)\n",
      "Cbc0031I 47 added rows had average density of 24.446809\n",
      "Cbc0013I At root node, 47 cuts changed objective from 7 to 7 in 12 passes\n",
      "Cbc0014I Cut generator 0 (Probing) - 992 row cuts average 6.3 elements, 0 column cuts (31 active)  in 0.039 seconds - new frequency is 1\n",
      "Cbc0014I Cut generator 1 (Gomory) - 128 row cuts average 54.1 elements, 0 column cuts (0 active)  in 0.003 seconds - new frequency is 1\n",
      "Cbc0014I Cut generator 2 (Knapsack) - 8 row cuts average 2.0 elements, 0 column cuts (0 active)  in 0.003 seconds - new frequency is 1\n",
      "Cbc0014I Cut generator 3 (Clique) - 0 row cuts average 0.0 elements, 0 column cuts (0 active)  in 0.000 seconds - new frequency is -100\n",
      "Cbc0014I Cut generator 4 (MixedIntegerRounding2) - 110 row cuts average 4.5 elements, 0 column cuts (0 active)  in 0.006 seconds - new frequency is 1\n",
      "Cbc0014I Cut generator 5 (FlowCover) - 1 row cuts average 4.0 elements, 0 column cuts (0 active)  in 0.003 seconds - new frequency is -100\n",
      "Cbc0014I Cut generator 6 (TwoMirCuts) - 238 row cuts average 36.7 elements, 0 column cuts (0 active)  in 0.006 seconds - new frequency is -100\n",
      "Cbc0001I Search completed - best objective 7, took 702 iterations and 0 nodes (0.43 seconds)\n",
      "Cbc0035I Maximum depth 0, 0 variables fixed on reduced cost\n",
      "Cuts at root node changed objective from 7 to 7\n",
      "Probing was tried 12 times and created 992 cuts of which 31 were active after adding rounds of cuts (0.039 seconds)\n",
      "Gomory was tried 12 times and created 128 cuts of which 0 were active after adding rounds of cuts (0.003 seconds)\n",
      "Knapsack was tried 12 times and created 8 cuts of which 0 were active after adding rounds of cuts (0.003 seconds)\n",
      "Clique was tried 12 times and created 0 cuts of which 0 were active after adding rounds of cuts (0.000 seconds)\n",
      "MixedIntegerRounding2 was tried 12 times and created 110 cuts of which 0 were active after adding rounds of cuts (0.006 seconds)\n",
      "FlowCover was tried 12 times and created 1 cuts of which 0 were active after adding rounds of cuts (0.003 seconds)\n",
      "TwoMirCuts was tried 12 times and created 238 cuts of which 0 were active after adding rounds of cuts (0.006 seconds)\n",
      "ZeroHalf was tried 1 times and created 0 cuts of which 0 were active after adding rounds of cuts (0.000 seconds)\n",
      "Coin0505I Presolved problem not optimal, resolve after postsolve\n",
      "Coin0505I Presolved problem not optimal, resolve after postsolve\n",
      "Cgl0013I Postprocessed model is infeasible - possible tolerance issue - try without preprocessing\n",
      "1 relaxed row infeasibilities - summing to 7\n",
      "1 relaxed row infeasibilities - summing to 7\n",
      "1 relaxed row infeasibilities - summing to 7\n",
      "\n",
      "Result - Optimal solution found\n",
      "\n",
      "Objective value:                7.00000000\n",
      "Enumerated nodes:               0\n",
      "Total iterations:               702\n",
      "Time (CPU seconds):             0.40\n",
      "Time (Wallclock seconds):       0.44\n",
      "\n",
      "Option for printingOptions changed from normal to all\n",
      "Total time (CPU seconds):       0.40   (Wallclock seconds):       0.44\n",
      "\n"
     ]
    }
   ],
   "source": [
    "# Scheduler\n",
    "MILQ.example_problem(bigM, timesteps, \"./results/MILQ\")\n"
   ]
  },
  {
   "cell_type": "code",
   "execution_count": 25,
   "metadata": {},
   "outputs": [
    {
     "name": "stdout",
     "output_type": "stream",
     "text": [
      "  job  qubits machine  capacity  start  end  duration\n",
      "0   A       2   BELEM         5    9.0  9.0       0.0\n",
      "1   B       3   BELEM         5    0.0  9.0       9.0\n",
      "2   C       5   QUITO         5    1.0  9.0       8.0\n"
     ]
    },
    {
     "data": {
      "image/png": "[encoded data removed]",
      "text/plain": [
       "<Figure size 640x480 with 1 Axes>"
      ]
     },
     "metadata": {},
     "output_type": "display_data"
    }
   ],
   "source": [
    "# Visualize\n",
    "from visualize import visualize_lp\n",
    "\n",
    "visualize_lp.visualize()\n",
    "\n",
    "\n"
   ]
  },
  {
   "cell_type": "code",
   "execution_count": null,
   "metadata": {},
   "outputs": [],
   "source": [
    "\n",
    "# Analyze"
   ]
  }
 ],
 "metadata": {
  "kernelspec": {
   "display_name": "MILQ",
   "language": "python",
   "name": "python3"
  },
  "language_info": {
   "codemirror_mode": {
    "name": "ipython",
    "version": 3
   },
   "file_extension": ".py",
   "mimetype": "text/x-python",
   "name": "python",
   "nbconvert_exporter": "python",
   "pygments_lexer": "ipython3",
   "version": "3.10.16"
  }
 },
 "nbformat": 4,
 "nbformat_minor": 2
}
