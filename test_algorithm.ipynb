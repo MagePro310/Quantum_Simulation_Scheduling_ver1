{
 "cells": [
  {
   "cell_type": "code",
   "execution_count": 11,
   "metadata": {},
   "outputs": [
    {
     "name": "stdout",
     "output_type": "stream",
     "text": [
      "The autoreload extension is already loaded. To reload it, use:\n",
      "  %reload_ext autoreload\n"
     ]
    }
   ],
   "source": [
    "%load_ext autoreload\n",
    "%autoreload 2\n",
    "import sys\n",
    "sys.path.append('./')"
   ]
  },
  {
   "cell_type": "code",
   "execution_count": 12,
   "metadata": {},
   "outputs": [],
   "source": [
    "# General imports\n",
    "import json\n",
    "import os\n",
    "from qiskit import QuantumCircuit\n",
    "import numpy as np\n",
    "from dataclasses import dataclass\n",
    "from enum import auto, Enum"
   ]
  },
  {
   "cell_type": "code",
   "execution_count": 13,
   "metadata": {},
   "outputs": [],
   "source": [
    "@dataclass\n",
    "class SchedulerType(Enum):\n",
    "    \"\"\"The type of scheduler to use.\"\"\"\n",
    "\n",
    "    BASELINE = auto()\n",
    "    SIMPLE = auto()\n",
    "    EXTENDED = auto()  "
   ]
  },
  {
   "cell_type": "code",
   "execution_count": 14,
   "metadata": {},
   "outputs": [
    {
     "name": "stdout",
     "output_type": "stream",
     "text": [
      "{'ilp': ['MILQ_extend', 'MILQ_simple'], 'ai': [], 'heuristic': []}\n"
     ]
    }
   ],
   "source": [
    "\n",
    "# Find the type of algorithm\n",
    "typeAlgorithm = os.listdir('component/d_scheduling/algorithm')\n",
    "cleantypeAlgorithm = [item for item in typeAlgorithm if item not in ['__pycache__', '__init__.py']]\n",
    "# make clean typeAlgorithm\n",
    "dictAlgorithm = {}\n",
    "for item in cleantypeAlgorithm:\n",
    "    dictAlgorithm[item] = os.listdir('component/d_scheduling/algorithm/' + item)\n",
    "    # make clean nameAlgorithm\n",
    "    cleandictAlgorithm = [item for item in dictAlgorithm[item] if item not in ['__pycache__', '__init__.py']]\n",
    "    dictAlgorithm[item] = cleandictAlgorithm\n",
    "\n",
    "print(dictAlgorithm)\n"
   ]
  },
  {
   "cell_type": "code",
   "execution_count": 15,
   "metadata": {},
   "outputs": [
    {
     "name": "stdout",
     "output_type": "stream",
     "text": [
      "['BELEM', 'NAIROBI', 'QUITO']\n"
     ]
    }
   ],
   "source": [
    "# Get list backend\n",
    "from component.a_backend import backend_info\n",
    "backend_list = [member.name for member in backend_info.IBMQBackend]\n",
    "print(backend_list)"
   ]
  },
  {
   "cell_type": "code",
   "execution_count": 16,
   "metadata": {},
   "outputs": [],
   "source": [
    "# Draw struct of backend\n"
   ]
  },
  {
   "cell_type": "code",
   "execution_count": 17,
   "metadata": {},
   "outputs": [],
   "source": [
    "# Configuration\n",
    "# 1. Number of Jobs in the batch\n",
    "jobs = {\"A\": 1, \"B\": 2, \"C\": 3, \"D\": 4, \"E\": 5}\n",
    "# 2. Number of machines\n",
    "machines = {\"QUITO\": 5, \"BELEM\": 5}\n",
    "# 3. Scheduling type\n",
    "\n"
   ]
  },
  {
   "cell_type": "code",
   "execution_count": 18,
   "metadata": {},
   "outputs": [],
   "source": [
    "# Setup\n",
    "bigM = 1000000\n",
    "timesteps = 2**5\n",
    "\n",
    "from component.d_scheduling.algorithm.ilp.MILQ_extend import MILQ_extend_implementation"
   ]
  },
  {
   "cell_type": "code",
   "execution_count": 19,
   "metadata": {},
   "outputs": [
    {
     "name": "stdout",
     "output_type": "stream",
     "text": [
      "Welcome to the CBC MILP Solver \n",
      "Version: 2.10.3 \n",
      "Build Date: Dec 15 2019 \n",
      "\n",
      "command line - /home/trieu/anaconda3/envs/squan/lib/python3.10/site-packages/pulp/apis/../solverdir/cbc/linux/i64/cbc /tmp/ef674e89fce54e268b7ce7319e08e099-pulp.mps -timeMode elapsed -branch -printingOptions all -solution /tmp/ef674e89fce54e268b7ce7319e08e099-pulp.sol (default strategy 1)\n",
      "At line 2 NAME          MODEL\n",
      "At line 3 ROWS\n",
      "At line 710 COLUMNS\n",
      "At line 4649 RHS\n",
      "At line 5355 BOUNDS\n",
      "At line 5860 ENDATA\n",
      "Problem MODEL has 705 rows, 514 columns and 2929 elements\n",
      "Coin0008I MODEL read with 0 errors\n",
      "Option for timeMode changed from cpu to elapsed\n",
      "Continuous objective value is 10 - 0.00 seconds\n",
      "Cgl0002I 8 variables fixed\n",
      "Cgl0003I 0 fixed, 0 tightened bounds, 495 strengthened rows, 0 substitutions\n",
      "Cgl0003I 0 fixed, 0 tightened bounds, 396 strengthened rows, 0 substitutions\n",
      "Cgl0003I 0 fixed, 0 tightened bounds, 233 strengthened rows, 0 substitutions\n",
      "Cgl0003I 0 fixed, 0 tightened bounds, 187 strengthened rows, 0 substitutions\n",
      "Cgl0003I 0 fixed, 0 tightened bounds, 172 strengthened rows, 0 substitutions\n",
      "Cgl0003I 0 fixed, 0 tightened bounds, 156 strengthened rows, 0 substitutions\n",
      "Cgl0003I 0 fixed, 0 tightened bounds, 145 strengthened rows, 0 substitutions\n",
      "Cgl0003I 0 fixed, 0 tightened bounds, 117 strengthened rows, 0 substitutions\n",
      "Cgl0003I 0 fixed, 0 tightened bounds, 86 strengthened rows, 0 substitutions\n",
      "Cgl0004I processed model has 613 rows, 397 columns (388 integer (388 of which binary)) and 4501 elements\n",
      "Cbc0038I Initial state - 87 integers unsatisfied sum - 21.9794\n",
      "Cbc0038I Pass   1: suminf.    5.48302 (68) obj. 27.9999 iterations 203\n",
      "Cbc0038I Pass   2: suminf.    4.54864 (69) obj. 27.9999 iterations 14\n",
      "Cbc0038I Pass   3: suminf.    3.40070 (65) obj. 27.9999 iterations 20\n",
      "Cbc0038I Pass   4: suminf.    2.27166 (62) obj. 27.9999 iterations 22\n",
      "Cbc0038I Pass   5: suminf.    2.06092 (51) obj. 27.9998 iterations 42\n",
      "Cbc0038I Pass   6: suminf.    1.85219 (55) obj. 27.9997 iterations 9\n",
      "Cbc0038I Pass   7: suminf.    2.47657 (54) obj. 27.9997 iterations 16\n",
      "Cbc0038I Pass   8: suminf.    1.98665 (53) obj. 27.9997 iterations 12\n",
      "Cbc0038I Pass   9: suminf.    1.86877 (53) obj. 27.9997 iterations 6\n",
      "Cbc0038I Pass  10: suminf.    5.69900 (79) obj. 582.548 iterations 136\n",
      "Cbc0038I Pass  11: suminf.    2.75956 (71) obj. 616.596 iterations 44\n",
      "Cbc0038I Pass  12: suminf.    2.52164 (56) obj. 29.9999 iterations 35\n",
      "Cbc0038I Pass  13: suminf.    1.97481 (56) obj. 29.9998 iterations 2\n",
      "Cbc0038I Pass  14: suminf.    0.72170 (68) obj. 44.9993 iterations 28\n",
      "Cbc0038I Pass  15: suminf.    0.45228 (68) obj. 44.9993 iterations 6\n",
      "Cbc0038I Pass  16: suminf.    0.69936 (63) obj. 44.9996 iterations 13\n",
      "Cbc0038I Pass  17: suminf.    0.69936 (63) obj. 44.9996 iterations 0\n",
      "Cbc0038I Pass  18: suminf.    0.70388 (63) obj. 44.9993 iterations 10\n",
      "Cbc0038I Pass  19: suminf.    0.43529 (64) obj. 44.9993 iterations 2\n",
      "Cbc0038I Pass  20: suminf.    0.74493 (62) obj. 44.9996 iterations 7\n",
      "Cbc0038I Pass  21: suminf.    0.69765 (62) obj. 44.9996 iterations 1\n",
      "Cbc0038I Pass  22: suminf.    6.29985 (95) obj. 493.946 iterations 117\n",
      "Cbc0038I Pass  23: suminf.    3.17076 (56) obj. 30.9998 iterations 66\n",
      "Cbc0038I Pass  24: suminf.    3.50280 (59) obj. 30.9992 iterations 41\n",
      "Cbc0038I Pass  25: suminf.    2.38181 (62) obj. 30.9992 iterations 9\n",
      "Cbc0038I Pass  26: suminf.    1.28652 (61) obj. 30.9992 iterations 16\n",
      "Cbc0038I Pass  27: suminf.    1.17040 (59) obj. 30.9992 iterations 13\n",
      "Cbc0038I Pass  28: suminf.    1.28126 (55) obj. 30.9992 iterations 20\n",
      "Cbc0038I Pass  29: suminf.    1.18165 (55) obj. 30.9992 iterations 3\n",
      "Cbc0038I Pass  30: suminf.    1.72194 (57) obj. 30.9992 iterations 10\n",
      "Cbc0038I No solution found this major pass\n",
      "Cbc0038I Before mini branch and bound, 184 integers at bound fixed and 0 continuous\n",
      "Cbc0038I Full problem 613 rows 397 columns, reduced to 423 rows 183 columns - too large\n",
      "Cbc0038I Mini branch and bound did not improve solution (0.18 seconds)\n",
      "Cbc0038I Full problem 614 rows 397 columns, reduced to 614 rows 397 columns - too large\n",
      "Cbc0038I After 0.19 seconds - Feasibility pump exiting - took 0.06 seconds\n",
      "Cbc0031I 103 added rows had average density of 109.91262\n",
      "Cbc0013I At root node, 103 cuts changed objective from 10.000001 to 12.073041 in 100 passes\n",
      "Cbc0014I Cut generator 0 (Probing) - 26762 row cuts average 4.6 elements, 0 column cuts (0 active)  in 0.285 seconds - new frequency is 1\n",
      "Cbc0014I Cut generator 1 (Gomory) - 1823 row cuts average 290.7 elements, 0 column cuts (0 active)  in 0.352 seconds - new frequency is 1\n",
      "Cbc0014I Cut generator 2 (Knapsack) - 953 row cuts average 2.5 elements, 0 column cuts (0 active)  in 0.042 seconds - new frequency is 1\n",
      "Cbc0014I Cut generator 3 (Clique) - 0 row cuts average 0.0 elements, 0 column cuts (0 active)  in 0.011 seconds - new frequency is -100\n",
      "Cbc0014I Cut generator 4 (MixedIntegerRounding2) - 1203 row cuts average 6.1 elements, 0 column cuts (0 active)  in 0.574 seconds - new frequency is 1\n",
      "Cbc0014I Cut generator 5 (FlowCover) - 44 row cuts average 3.0 elements, 0 column cuts (0 active)  in 0.048 seconds - new frequency is -100\n",
      "Cbc0014I Cut generator 6 (TwoMirCuts) - 1304 row cuts average 16.5 elements, 0 column cuts (0 active)  in 0.042 seconds - new frequency is 1\n",
      "Cbc0014I Cut generator 7 (ZeroHalf) - 319 row cuts average 4.6 elements, 0 column cuts (0 active)  in 0.123 seconds - new frequency is 1\n",
      "Cbc0010I After 0 nodes, 1 on tree, 1e+50 best solution, best possible 12.073041 (6.04 seconds)\n",
      "Cbc0027I Exiting on user event\n",
      "Cbc0005I Partial search - best objective 1e+50 (best possible 12.073041), took 52711 iterations and 202 nodes (9.18 seconds)\n",
      "Cbc0032I Strong branching done 1870 times (34564 iterations), fathomed 28 nodes and fixed 85 variables\n",
      "Cbc0035I Maximum depth 30, 0 variables fixed on reduced cost\n",
      "Cuts at root node changed objective from 10 to 12.073\n",
      "Probing was tried 295 times and created 32406 cuts of which 0 were active after adding rounds of cuts (0.346 seconds)\n",
      "Gomory was tried 265 times and created 2031 cuts of which 0 were active after adding rounds of cuts (0.403 seconds)\n",
      "Knapsack was tried 265 times and created 1432 cuts of which 0 were active after adding rounds of cuts (0.079 seconds)\n",
      "Clique was tried 100 times and created 0 cuts of which 0 were active after adding rounds of cuts (0.011 seconds)\n",
      "MixedIntegerRounding2 was tried 265 times and created 1483 cuts of which 0 were active after adding rounds of cuts (0.846 seconds)\n",
      "FlowCover was tried 100 times and created 44 cuts of which 0 were active after adding rounds of cuts (0.048 seconds)\n",
      "TwoMirCuts was tried 265 times and created 1640 cuts of which 0 were active after adding rounds of cuts (0.141 seconds)\n",
      "ZeroHalf was tried 265 times and created 455 cuts of which 0 were active after adding rounds of cuts (0.181 seconds)\n",
      "ImplicationCuts was tried 26 times and created 4168 cuts of which 0 were active after adding rounds of cuts (0.017 seconds)\n",
      "\n",
      "Result - User ctrl-cuser ctrl-c\n",
      "\n",
      "No feasible solution found\n",
      "Lower bound:                    12.073\n",
      "Enumerated nodes:               202\n",
      "Total iterations:               52711\n",
      "Time (CPU seconds):             9.14\n",
      "Time (Wallclock seconds):       9.23\n",
      "\n",
      "Option for printingOptions changed from normal to all\n",
      "Total time (CPU seconds):       9.14   (Wallclock seconds):       9.23\n",
      "\n"
     ]
    },
    {
     "ename": "KeyboardInterrupt",
     "evalue": "",
     "output_type": "error",
     "traceback": [
      "\u001b[0;31m---------------------------------------------------------------------------\u001b[0m",
      "\u001b[0;31mKeyboardInterrupt\u001b[0m                         Traceback (most recent call last)",
      "Cell \u001b[0;32mIn[19], line 2\u001b[0m\n\u001b[1;32m      1\u001b[0m \u001b[38;5;66;03m# Scheduler\u001b[39;00m\n\u001b[0;32m----> 2\u001b[0m \u001b[43mMILQ_extend_implementation\u001b[49m\u001b[38;5;241;43m.\u001b[39;49m\u001b[43mexample_problem\u001b[49m\u001b[43m(\u001b[49m\u001b[43mbigM\u001b[49m\u001b[43m,\u001b[49m\u001b[43m \u001b[49m\u001b[43mtimesteps\u001b[49m\u001b[43m,\u001b[49m\u001b[43m \u001b[49m\u001b[38;5;124;43m\"\u001b[39;49m\u001b[38;5;124;43mcomponent/d_scheduling/algorithm/ilp/MILQ_extend/MILQ_extend_result\u001b[39;49m\u001b[38;5;124;43m\"\u001b[39;49m\u001b[43m)\u001b[49m\n",
      "File \u001b[0;32m~/D/Quantum_Repo/Quantum_Simulation_Scheduling/component/d_scheduling/algorithm/ilp/MILQ_extend/MILQ_extend_implementation.py:686\u001b[0m, in \u001b[0;36mexample_problem\u001b[0;34m(big_m, timesteps, filename)\u001b[0m\n\u001b[1;32m    681\u001b[0m _problem, job_capacities \u001b[38;5;241m=\u001b[39m _generate_problem(big_m, timesteps)\n\u001b[1;32m    682\u001b[0m \u001b[38;5;66;03m# print(\"Problem:\")\u001b[39;00m\n\u001b[1;32m    683\u001b[0m \u001b[38;5;66;03m# print(_problem.base_jobs)\u001b[39;00m\n\u001b[1;32m    684\u001b[0m \u001b[38;5;66;03m# print(\"Job Capacities:\")\u001b[39;00m\n\u001b[1;32m    685\u001b[0m \u001b[38;5;66;03m# print(job_capacities)\u001b[39;00m\n\u001b[0;32m--> 686\u001b[0m _, _, lp_instance \u001b[38;5;241m=\u001b[39m \u001b[43mgenerate_schedule\u001b[49m\u001b[43m(\u001b[49m\u001b[43m_problem\u001b[49m\u001b[43m,\u001b[49m\u001b[43m \u001b[49m\u001b[43mSchedulerType\u001b[49m\u001b[38;5;241;43m.\u001b[39;49m\u001b[43mEXTENDED\u001b[49m\u001b[43m)\u001b[49m\n\u001b[1;32m    689\u001b[0m lp_instance\u001b[38;5;241m.\u001b[39mproblem\u001b[38;5;241m.\u001b[39mwriteLP(\u001b[38;5;124mf\u001b[39m\u001b[38;5;124m\"\u001b[39m\u001b[38;5;132;01m{\u001b[39;00mfilename\u001b[38;5;132;01m}\u001b[39;00m\u001b[38;5;124m.lp\u001b[39m\u001b[38;5;124m\"\u001b[39m)\n\u001b[1;32m    691\u001b[0m \u001b[38;5;28;01mwith\u001b[39;00m \u001b[38;5;28mopen\u001b[39m(\u001b[38;5;124mf\u001b[39m\u001b[38;5;124m\"\u001b[39m\u001b[38;5;132;01m{\u001b[39;00mfilename\u001b[38;5;132;01m}\u001b[39;00m\u001b[38;5;124m.json\u001b[39m\u001b[38;5;124m\"\u001b[39m, \u001b[38;5;124m\"\u001b[39m\u001b[38;5;124mw+\u001b[39m\u001b[38;5;124m\"\u001b[39m, encoding\u001b[38;5;241m=\u001b[39m\u001b[38;5;124m\"\u001b[39m\u001b[38;5;124mutf-8\u001b[39m\u001b[38;5;124m\"\u001b[39m) \u001b[38;5;28;01mas\u001b[39;00m f:\n",
      "File \u001b[0;32m~/D/Quantum_Repo/Quantum_Simulation_Scheduling/component/d_scheduling/algorithm/ilp/MILQ_extend/MILQ_extend_implementation.py:81\u001b[0m, in \u001b[0;36mgenerate_schedule\u001b[0;34m(problem, schedule_type)\u001b[0m\n\u001b[1;32m     62\u001b[0m \u001b[38;5;250m\u001b[39m\u001b[38;5;124;03m\"\"\"Generates the schedule for the given problem and schedule type.\u001b[39;00m\n\u001b[1;32m     63\u001b[0m \n\u001b[1;32m     64\u001b[0m \u001b[38;5;124;03mBaseline: Generates a schedule using binpacking.\u001b[39;00m\n\u001b[0;32m   (...)\u001b[0m\n\u001b[1;32m     77\u001b[0m \u001b[38;5;124;03m    NotImplementedError: Unsupported types.\u001b[39;00m\n\u001b[1;32m     78\u001b[0m \u001b[38;5;124;03m\"\"\"\u001b[39;00m\n\u001b[1;32m     79\u001b[0m \u001b[38;5;28;01mif\u001b[39;00m \u001b[38;5;28misinstance\u001b[39m(problem, InfoProblem):\n\u001b[1;32m     80\u001b[0m     \u001b[38;5;66;03m# print(\"Run info\")\u001b[39;00m\n\u001b[0;32m---> 81\u001b[0m     \u001b[38;5;28;01mreturn\u001b[39;00m \u001b[43m_generate_schedule_info\u001b[49m\u001b[43m(\u001b[49m\u001b[43mproblem\u001b[49m\u001b[43m,\u001b[49m\u001b[43m \u001b[49m\u001b[43mschedule_type\u001b[49m\u001b[43m)\u001b[49m\n\u001b[1;32m     82\u001b[0m \u001b[38;5;28;01mraise\u001b[39;00m \u001b[38;5;167;01mNotImplementedError\u001b[39;00m(\u001b[38;5;124m\"\u001b[39m\u001b[38;5;124mUnsupported type\u001b[39m\u001b[38;5;124m\"\u001b[39m)\n",
      "File \u001b[0;32m~/D/Quantum_Repo/Quantum_Simulation_Scheduling/component/d_scheduling/algorithm/ilp/MILQ_extend/MILQ_extend_implementation.py:250\u001b[0m, in \u001b[0;36m_generate_schedule_info\u001b[0;34m(problem, schedule_type)\u001b[0m\n\u001b[1;32m    243\u001b[0m \u001b[38;5;28;01mif\u001b[39;00m schedule_type \u001b[38;5;241m==\u001b[39m SchedulerType\u001b[38;5;241m.\u001b[39mEXTENDED:\n\u001b[1;32m    244\u001b[0m     lp_instance \u001b[38;5;241m=\u001b[39m set_up_extended_lp(\n\u001b[1;32m    245\u001b[0m         lp_instance\u001b[38;5;241m=\u001b[39mlp_instance,\n\u001b[1;32m    246\u001b[0m         process_times\u001b[38;5;241m=\u001b[39mproblem\u001b[38;5;241m.\u001b[39mprocess_times,\n\u001b[1;32m    247\u001b[0m         setup_times\u001b[38;5;241m=\u001b[39mproblem\u001b[38;5;241m.\u001b[39msetup_times,\n\u001b[1;32m    248\u001b[0m     )\n\u001b[0;32m--> 250\u001b[0m lp_instance \u001b[38;5;241m=\u001b[39m \u001b[43msolve_lp\u001b[49m\u001b[43m(\u001b[49m\u001b[43mlp_instance\u001b[49m\u001b[43m)\u001b[49m\n\u001b[1;32m    251\u001b[0m _, jobs \u001b[38;5;241m=\u001b[39m extract_info_schedule(lp_instance)\n\u001b[1;32m    252\u001b[0m makespan \u001b[38;5;241m=\u001b[39m calculate_makespan(\n\u001b[1;32m    253\u001b[0m     lp_instance, jobs, problem\u001b[38;5;241m.\u001b[39mprocess_times, problem\u001b[38;5;241m.\u001b[39msetup_times\n\u001b[1;32m    254\u001b[0m )\n",
      "File \u001b[0;32m~/D/Quantum_Repo/Quantum_Simulation_Scheduling/component/d_scheduling/algorithm/ilp/MILQ_extend/MILQ_extend_implementation.py:613\u001b[0m, in \u001b[0;36msolve_lp\u001b[0;34m(lp_instance)\u001b[0m\n\u001b[1;32m    611\u001b[0m     lp_instance\u001b[38;5;241m.\u001b[39mproblem\u001b[38;5;241m.\u001b[39msolve(solver)\n\u001b[1;32m    612\u001b[0m \u001b[38;5;28;01melse\u001b[39;00m:\n\u001b[0;32m--> 613\u001b[0m     \u001b[43mlp_instance\u001b[49m\u001b[38;5;241;43m.\u001b[39;49m\u001b[43mproblem\u001b[49m\u001b[38;5;241;43m.\u001b[39;49m\u001b[43msolve\u001b[49m\u001b[43m(\u001b[49m\u001b[43m)\u001b[49m\n\u001b[1;32m    614\u001b[0m \u001b[38;5;28;01mreturn\u001b[39;00m lp_instance\n",
      "File \u001b[0;32m~/anaconda3/envs/squan/lib/python3.10/site-packages/pulp/pulp.py:2007\u001b[0m, in \u001b[0;36mLpProblem.solve\u001b[0;34m(self, solver, **kwargs)\u001b[0m\n\u001b[1;32m   2005\u001b[0m \u001b[38;5;66;03m# time it\u001b[39;00m\n\u001b[1;32m   2006\u001b[0m \u001b[38;5;28mself\u001b[39m\u001b[38;5;241m.\u001b[39mstartClock()\n\u001b[0;32m-> 2007\u001b[0m status \u001b[38;5;241m=\u001b[39m \u001b[43msolver\u001b[49m\u001b[38;5;241;43m.\u001b[39;49m\u001b[43mactualSolve\u001b[49m\u001b[43m(\u001b[49m\u001b[38;5;28;43mself\u001b[39;49m\u001b[43m,\u001b[49m\u001b[43m \u001b[49m\u001b[38;5;241;43m*\u001b[39;49m\u001b[38;5;241;43m*\u001b[39;49m\u001b[43mkwargs\u001b[49m\u001b[43m)\u001b[49m\n\u001b[1;32m   2008\u001b[0m \u001b[38;5;28mself\u001b[39m\u001b[38;5;241m.\u001b[39mstopClock()\n\u001b[1;32m   2009\u001b[0m \u001b[38;5;28mself\u001b[39m\u001b[38;5;241m.\u001b[39mrestoreObjective(wasNone, dummyVar)\n",
      "File \u001b[0;32m~/anaconda3/envs/squan/lib/python3.10/site-packages/pulp/apis/coin_api.py:128\u001b[0m, in \u001b[0;36mCOIN_CMD.actualSolve\u001b[0;34m(self, lp, **kwargs)\u001b[0m\n\u001b[1;32m    126\u001b[0m \u001b[38;5;28;01mdef\u001b[39;00m\u001b[38;5;250m \u001b[39m\u001b[38;5;21mactualSolve\u001b[39m(\u001b[38;5;28mself\u001b[39m, lp: LpProblem, \u001b[38;5;241m*\u001b[39m\u001b[38;5;241m*\u001b[39mkwargs):\n\u001b[1;32m    127\u001b[0m \u001b[38;5;250m    \u001b[39m\u001b[38;5;124;03m\"\"\"Solve a well formulated lp problem\"\"\"\u001b[39;00m\n\u001b[0;32m--> 128\u001b[0m     \u001b[38;5;28;01mreturn\u001b[39;00m \u001b[38;5;28;43mself\u001b[39;49m\u001b[38;5;241;43m.\u001b[39;49m\u001b[43msolve_CBC\u001b[49m\u001b[43m(\u001b[49m\u001b[43mlp\u001b[49m\u001b[43m,\u001b[49m\u001b[43m \u001b[49m\u001b[38;5;241;43m*\u001b[39;49m\u001b[38;5;241;43m*\u001b[39;49m\u001b[43mkwargs\u001b[49m\u001b[43m)\u001b[49m\n",
      "File \u001b[0;32m~/anaconda3/envs/squan/lib/python3.10/site-packages/pulp/apis/coin_api.py:206\u001b[0m, in \u001b[0;36mCOIN_CMD.solve_CBC\u001b[0;34m(self, lp, use_mps)\u001b[0m\n\u001b[1;32m    204\u001b[0m \u001b[38;5;28;01melse\u001b[39;00m:\n\u001b[1;32m    205\u001b[0m     cbc \u001b[38;5;241m=\u001b[39m subprocess\u001b[38;5;241m.\u001b[39mPopen(args, stdout\u001b[38;5;241m=\u001b[39mpipe, stderr\u001b[38;5;241m=\u001b[39mpipe, stdin\u001b[38;5;241m=\u001b[39mdevnull)\n\u001b[0;32m--> 206\u001b[0m \u001b[38;5;28;01mif\u001b[39;00m \u001b[43mcbc\u001b[49m\u001b[38;5;241;43m.\u001b[39;49m\u001b[43mwait\u001b[49m\u001b[43m(\u001b[49m\u001b[43m)\u001b[49m \u001b[38;5;241m!=\u001b[39m \u001b[38;5;241m0\u001b[39m:\n\u001b[1;32m    207\u001b[0m     \u001b[38;5;28;01mif\u001b[39;00m pipe:\n\u001b[1;32m    208\u001b[0m         pipe\u001b[38;5;241m.\u001b[39mclose()\n",
      "File \u001b[0;32m~/anaconda3/envs/squan/lib/python3.10/subprocess.py:1209\u001b[0m, in \u001b[0;36mPopen.wait\u001b[0;34m(self, timeout)\u001b[0m\n\u001b[1;32m   1207\u001b[0m     endtime \u001b[38;5;241m=\u001b[39m _time() \u001b[38;5;241m+\u001b[39m timeout\n\u001b[1;32m   1208\u001b[0m \u001b[38;5;28;01mtry\u001b[39;00m:\n\u001b[0;32m-> 1209\u001b[0m     \u001b[38;5;28;01mreturn\u001b[39;00m \u001b[38;5;28;43mself\u001b[39;49m\u001b[38;5;241;43m.\u001b[39;49m\u001b[43m_wait\u001b[49m\u001b[43m(\u001b[49m\u001b[43mtimeout\u001b[49m\u001b[38;5;241;43m=\u001b[39;49m\u001b[43mtimeout\u001b[49m\u001b[43m)\u001b[49m\n\u001b[1;32m   1210\u001b[0m \u001b[38;5;28;01mexcept\u001b[39;00m \u001b[38;5;167;01mKeyboardInterrupt\u001b[39;00m:\n\u001b[1;32m   1211\u001b[0m     \u001b[38;5;66;03m# https://bugs.python.org/issue25942\u001b[39;00m\n\u001b[1;32m   1212\u001b[0m     \u001b[38;5;66;03m# The first keyboard interrupt waits briefly for the child to\u001b[39;00m\n\u001b[1;32m   1213\u001b[0m     \u001b[38;5;66;03m# exit under the common assumption that it also received the ^C\u001b[39;00m\n\u001b[1;32m   1214\u001b[0m     \u001b[38;5;66;03m# generated SIGINT and will exit rapidly.\u001b[39;00m\n\u001b[1;32m   1215\u001b[0m     \u001b[38;5;28;01mif\u001b[39;00m timeout \u001b[38;5;129;01mis\u001b[39;00m \u001b[38;5;129;01mnot\u001b[39;00m \u001b[38;5;28;01mNone\u001b[39;00m:\n",
      "File \u001b[0;32m~/anaconda3/envs/squan/lib/python3.10/subprocess.py:1959\u001b[0m, in \u001b[0;36mPopen._wait\u001b[0;34m(self, timeout)\u001b[0m\n\u001b[1;32m   1957\u001b[0m \u001b[38;5;28;01mif\u001b[39;00m \u001b[38;5;28mself\u001b[39m\u001b[38;5;241m.\u001b[39mreturncode \u001b[38;5;129;01mis\u001b[39;00m \u001b[38;5;129;01mnot\u001b[39;00m \u001b[38;5;28;01mNone\u001b[39;00m:\n\u001b[1;32m   1958\u001b[0m     \u001b[38;5;28;01mbreak\u001b[39;00m  \u001b[38;5;66;03m# Another thread waited.\u001b[39;00m\n\u001b[0;32m-> 1959\u001b[0m (pid, sts) \u001b[38;5;241m=\u001b[39m \u001b[38;5;28;43mself\u001b[39;49m\u001b[38;5;241;43m.\u001b[39;49m\u001b[43m_try_wait\u001b[49m\u001b[43m(\u001b[49m\u001b[38;5;241;43m0\u001b[39;49m\u001b[43m)\u001b[49m\n\u001b[1;32m   1960\u001b[0m \u001b[38;5;66;03m# Check the pid and loop as waitpid has been known to\u001b[39;00m\n\u001b[1;32m   1961\u001b[0m \u001b[38;5;66;03m# return 0 even without WNOHANG in odd situations.\u001b[39;00m\n\u001b[1;32m   1962\u001b[0m \u001b[38;5;66;03m# http://bugs.python.org/issue14396.\u001b[39;00m\n\u001b[1;32m   1963\u001b[0m \u001b[38;5;28;01mif\u001b[39;00m pid \u001b[38;5;241m==\u001b[39m \u001b[38;5;28mself\u001b[39m\u001b[38;5;241m.\u001b[39mpid:\n",
      "File \u001b[0;32m~/anaconda3/envs/squan/lib/python3.10/subprocess.py:1917\u001b[0m, in \u001b[0;36mPopen._try_wait\u001b[0;34m(self, wait_flags)\u001b[0m\n\u001b[1;32m   1915\u001b[0m \u001b[38;5;250m\u001b[39m\u001b[38;5;124;03m\"\"\"All callers to this function MUST hold self._waitpid_lock.\"\"\"\u001b[39;00m\n\u001b[1;32m   1916\u001b[0m \u001b[38;5;28;01mtry\u001b[39;00m:\n\u001b[0;32m-> 1917\u001b[0m     (pid, sts) \u001b[38;5;241m=\u001b[39m \u001b[43mos\u001b[49m\u001b[38;5;241;43m.\u001b[39;49m\u001b[43mwaitpid\u001b[49m\u001b[43m(\u001b[49m\u001b[38;5;28;43mself\u001b[39;49m\u001b[38;5;241;43m.\u001b[39;49m\u001b[43mpid\u001b[49m\u001b[43m,\u001b[49m\u001b[43m \u001b[49m\u001b[43mwait_flags\u001b[49m\u001b[43m)\u001b[49m\n\u001b[1;32m   1918\u001b[0m \u001b[38;5;28;01mexcept\u001b[39;00m \u001b[38;5;167;01mChildProcessError\u001b[39;00m:\n\u001b[1;32m   1919\u001b[0m     \u001b[38;5;66;03m# This happens if SIGCLD is set to be ignored or waiting\u001b[39;00m\n\u001b[1;32m   1920\u001b[0m     \u001b[38;5;66;03m# for child processes has otherwise been disabled for our\u001b[39;00m\n\u001b[1;32m   1921\u001b[0m     \u001b[38;5;66;03m# process.  This child is dead, we can't get the status.\u001b[39;00m\n\u001b[1;32m   1922\u001b[0m     pid \u001b[38;5;241m=\u001b[39m \u001b[38;5;28mself\u001b[39m\u001b[38;5;241m.\u001b[39mpid\n",
      "\u001b[0;31mKeyboardInterrupt\u001b[0m: "
     ]
    }
   ],
   "source": [
    "# Scheduler\n",
    "MILQ_extend_implementation.example_problem(bigM, timesteps, \"component/d_scheduling/algorithm/ilp/MILQ_extend/MILQ_extend_result\")\n"
   ]
  },
  {
   "cell_type": "code",
   "execution_count": 20,
   "metadata": {},
   "outputs": [
    {
     "name": "stdout",
     "output_type": "stream",
     "text": [
      "  job  qubits machine  capacity  start   end  duration\n",
      "0   A       2   QUITO         5    0.0  14.0      14.0\n",
      "1   B       3   QUITO         5    0.0   8.0       8.0\n",
      "2   C       5   BELEM         5    0.0  20.0      20.0\n",
      "3   D       2   QUITO         5    9.0  21.0      12.0\n"
     ]
    },
    {
     "data": {
      "image/png": "[encoded data removed]",
      "text/plain": [
       "<Figure size 640x480 with 1 Axes>"
      ]
     },
     "metadata": {},
     "output_type": "display_data"
    }
   ],
   "source": [
    "# Visualize\n",
    "from component.d_scheduling.visualize import ilp\n",
    "\n",
    "ilp.visualize(\"component/d_scheduling/algorithm/ilp/MILQ_extend/MILQ_extend_result.json\")\n"
   ]
  },
  {
   "cell_type": "code",
   "execution_count": null,
   "metadata": {},
   "outputs": [],
   "source": [
    "\n",
    "# Analyze"
   ]
  }
 ],
 "metadata": {
  "kernelspec": {
   "display_name": "squan",
   "language": "python",
   "name": "python3"
  },
  "language_info": {
   "codemirror_mode": {
    "name": "ipython",
    "version": 3
   },
   "file_extension": ".py",
   "mimetype": "text/x-python",
   "name": "python",
   "nbconvert_exporter": "python",
   "pygments_lexer": "ipython3",
   "version": "3.10.16"
  }
 },
 "nbformat": 4,
 "nbformat_minor": 2
}
