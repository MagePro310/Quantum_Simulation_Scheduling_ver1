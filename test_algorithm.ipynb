{
 "cells": [
  {
   "cell_type": "code",
   "execution_count": 1,
   "metadata": {},
   "outputs": [],
   "source": [
    "%load_ext autoreload\n",
    "%autoreload 2\n",
    "import sys\n",
    "sys.path.append('./')"
   ]
  },
  {
   "cell_type": "code",
   "execution_count": 2,
   "metadata": {},
   "outputs": [],
   "source": [
    "# General imports\n",
    "import json\n",
    "import os\n",
    "from qiskit import QuantumCircuit\n",
    "import numpy as np\n",
    "from dataclasses import dataclass\n",
    "from enum import auto, Enum"
   ]
  },
  {
   "cell_type": "code",
   "execution_count": 3,
   "metadata": {},
   "outputs": [],
   "source": [
    "@dataclass\n",
    "class SchedulerType(Enum):\n",
    "    \"\"\"The type of scheduler to use.\"\"\"\n",
    "\n",
    "    BASELINE = auto()\n",
    "    SIMPLE = auto()\n",
    "    EXTENDED = auto()  "
   ]
  },
  {
   "cell_type": "code",
   "execution_count": 4,
   "metadata": {},
   "outputs": [
    {
     "name": "stdout",
     "output_type": "stream",
     "text": [
      "{'ilp': ['MILQ_extend', 'MILQ_simple'], 'ai': [], 'heuristic': []}\n"
     ]
    }
   ],
   "source": [
    "\n",
    "# Find the type of algorithm\n",
    "typeAlgorithm = os.listdir('component/d_scheduling/algorithm')\n",
    "cleantypeAlgorithm = [item for item in typeAlgorithm if item not in ['__pycache__', '__init__.py']]\n",
    "# make clean typeAlgorithm\n",
    "dictAlgorithm = {}\n",
    "for item in cleantypeAlgorithm:\n",
    "    dictAlgorithm[item] = os.listdir('component/d_scheduling/algorithm/' + item)\n",
    "    # make clean nameAlgorithm\n",
    "    cleandictAlgorithm = [item for item in dictAlgorithm[item] if item not in ['__pycache__', '__init__.py']]\n",
    "    dictAlgorithm[item] = cleandictAlgorithm\n",
    "\n",
    "print(dictAlgorithm)\n"
   ]
  },
  {
   "cell_type": "code",
   "execution_count": 5,
   "metadata": {},
   "outputs": [
    {
     "name": "stdout",
     "output_type": "stream",
     "text": [
      "['BELEM', 'NAIROBI', 'QUITO']\n"
     ]
    }
   ],
   "source": [
    "# Get list backend\n",
    "from component.a_backend import backend_info\n",
    "backend_list = [member.name for member in backend_info.IBMQBackend]\n",
    "print(backend_list)"
   ]
  },
  {
   "cell_type": "code",
   "execution_count": null,
   "metadata": {},
   "outputs": [],
   "source": [
    "# Draw struct of backend\n",
    "# using fakebackend or using aer simulator\n"
   ]
  },
  {
   "cell_type": "markdown",
   "metadata": {},
   "source": [
    "- **ae**: Amplitude Estimation (AE)\n",
    "- **dj**: Deutsch-Jozsa\n",
    "- **grover-noancilla**: Grover’s (no ancilla)\n",
    "- **grover-v-chain**: Grover’s (v-chain)\n",
    "- **ghz**: GHZ State\n",
    "- **graphstate**: Graph State\n",
    "- **portfolioqaoa**: Portfolio Optimization with QAOA\n",
    "- **portfoliovqe**: Portfolio Optimization with VQE\n",
    "- **qaoa**: Quantum Approximation Optimization Algorithm (QAOA)\n",
    "- **qft**: Quantum Fourier Transformation (QFT)\n",
    "- **qftentangled**: QFT Entangled\n",
    "- **qnn**: Quantum Neural Network (QNN)\n",
    "- **qpeexact**: Quantum Phase Estimation (QPE) exact\n",
    "- **qpeinexact**: Quantum Phase Estimation (QPE) inexact\n",
    "- **qwalk-noancilla**: Quantum Walk (no ancilla)\n",
    "- **qwalk-v-chain**: Quantum Walk (v-chain)\n",
    "- **random**: Random Quantum Circuit\n",
    "- **realamprandom**: Real Amplitudes ansatz with Random Parameters\n",
    "- **su2random**: Efficient SU2 ansatz with Random Parameters\n",
    "- **twolocalrandom**: Two Local ansatz with Random Parameters\n",
    "- **vqe**: Variational Quantum Eigensolver (VQE)\n",
    "- **wstate**: W-State\n",
    "- **shor**: Shor’s\n",
    "- **pricingcall**: Pricing Call Option\n",
    "- **pricingput**: Pricing Put Option\n",
    "- **groundstate**: Ground State\n",
    "- **routing**: Routing\n",
    "- **tsp**: Travelling Salesman"
   ]
  },
  {
   "cell_type": "code",
   "execution_count": null,
   "metadata": {},
   "outputs": [
    {
     "name": "stderr",
     "output_type": "stream",
     "text": [
      "/home/trieu/anaconda3/envs/squan/lib/python3.10/site-packages/scipy/optimize/_slsqp_py.py:435: RuntimeWarning: Values in x were outside bounds during a minimize step, clipping to bounds\n",
      "  fx = wrapped_fun(x)\n"
     ]
    },
    {
     "data": {
      "text/html": [
       "<pre style=\"word-wrap: normal;white-space: pre;background: #fff0;line-height: 1.1;font-family: &quot;Courier New&quot;,Courier,monospace\">        »\n",
       "   q_0: »\n",
       "        »\n",
       "   q_1: »\n",
       "        »\n",
       "   q_2: »\n",
       "        »\n",
       "   q_3: »\n",
       "        »\n",
       "   q_4: »\n",
       "        »\n",
       "   q_5: »\n",
       "        »\n",
       "meas: 6/»\n",
       "        »\n",
       "«        ┌────────────────────────────────────────────────────────────────────────────────────────────────────────────────────────────────────────────────────────────────────────────────────────────────────────────┐»\n",
       "«   q_0: ┤0                                                                                                                                                                                                           ├»\n",
       "«        │                                                                                                                                                                                                            │»\n",
       "«   q_1: ┤1                                                                                                                                                                                                           ├»\n",
       "«        │                                                                                                                                                                                                            │»\n",
       "«   q_2: ┤2                                                                                                                                                                                                           ├»\n",
       "«        │  RealAmplitudes(-0.031516,-2.3821,-0.070328,1.4424,2.1779,2.3221,-0.02536,0.85082,2.8984,-1.5047,-1.4992,1.0589,-2.7838,0.94967,1.681,-0.44245,1.432,2.3438,-0.41972,1.4816,-0.89864,-1.5511,-1.482,1.578) │»\n",
       "«   q_3: ┤3                                                                                                                                                                                                           ├»\n",
       "«        │                                                                                                                                                                                                            │»\n",
       "«   q_4: ┤4                                                                                                                                                                                                           ├»\n",
       "«        │                                                                                                                                                                                                            │»\n",
       "«   q_5: ┤5                                                                                                                                                                                                           ├»\n",
       "«        └────────────────────────────────────────────────────────────────────────────────────────────────────────────────────────────────────────────────────────────────────────────────────────────────────────────┘»\n",
       "«meas: 6/══════════════════════════════════════════════════════════════════════════════════════════════════════════════════════════════════════════════════════════════════════════════════════════════════════════════»\n",
       "«                                                                                                                                                                                                                      »\n",
       "«         ░ ┌─┐               \n",
       "«   q_0: ─░─┤M├───────────────\n",
       "«         ░ └╥┘┌─┐            \n",
       "«   q_1: ─░──╫─┤M├────────────\n",
       "«         ░  ║ └╥┘┌─┐         \n",
       "«   q_2: ─░──╫──╫─┤M├─────────\n",
       "«         ░  ║  ║ └╥┘┌─┐      \n",
       "«   q_3: ─░──╫──╫──╫─┤M├──────\n",
       "«         ░  ║  ║  ║ └╥┘┌─┐   \n",
       "«   q_4: ─░──╫──╫──╫──╫─┤M├───\n",
       "«         ░  ║  ║  ║  ║ └╥┘┌─┐\n",
       "«   q_5: ─░──╫──╫──╫──╫──╫─┤M├\n",
       "«         ░  ║  ║  ║  ║  ║ └╥┘\n",
       "«meas: 6/════╩══╩══╩══╩══╩══╩═\n",
       "«            0  1  2  3  4  5 </pre>"
      ],
      "text/plain": [
       "        »\n",
       "   q_0: »\n",
       "        »\n",
       "   q_1: »\n",
       "        »\n",
       "   q_2: »\n",
       "        »\n",
       "   q_3: »\n",
       "        »\n",
       "   q_4: »\n",
       "        »\n",
       "   q_5: »\n",
       "        »\n",
       "meas: 6/»\n",
       "        »\n",
       "«        ┌────────────────────────────────────────────────────────────────────────────────────────────────────────────────────────────────────────────────────────────────────────────────────────────────────────────┐»\n",
       "«   q_0: ┤0                                                                                                                                                                                                           ├»\n",
       "«        │                                                                                                                                                                                                            │»\n",
       "«   q_1: ┤1                                                                                                                                                                                                           ├»\n",
       "«        │                                                                                                                                                                                                            │»\n",
       "«   q_2: ┤2                                                                                                                                                                                                           ├»\n",
       "«        │  RealAmplitudes(-0.031516,-2.3821,-0.070328,1.4424,2.1779,2.3221,-0.02536,0.85082,2.8984,-1.5047,-1.4992,1.0589,-2.7838,0.94967,1.681,-0.44245,1.432,2.3438,-0.41972,1.4816,-0.89864,-1.5511,-1.482,1.578) │»\n",
       "«   q_3: ┤3                                                                                                                                                                                                           ├»\n",
       "«        │                                                                                                                                                                                                            │»\n",
       "«   q_4: ┤4                                                                                                                                                                                                           ├»\n",
       "«        │                                                                                                                                                                                                            │»\n",
       "«   q_5: ┤5                                                                                                                                                                                                           ├»\n",
       "«        └────────────────────────────────────────────────────────────────────────────────────────────────────────────────────────────────────────────────────────────────────────────────────────────────────────────┘»\n",
       "«meas: 6/══════════════════════════════════════════════════════════════════════════════════════════════════════════════════════════════════════════════════════════════════════════════════════════════════════════════»\n",
       "«                                                                                                                                                                                                                      »\n",
       "«         ░ ┌─┐               \n",
       "«   q_0: ─░─┤M├───────────────\n",
       "«         ░ └╥┘┌─┐            \n",
       "«   q_1: ─░──╫─┤M├────────────\n",
       "«         ░  ║ └╥┘┌─┐         \n",
       "«   q_2: ─░──╫──╫─┤M├─────────\n",
       "«         ░  ║  ║ └╥┘┌─┐      \n",
       "«   q_3: ─░──╫──╫──╫─┤M├──────\n",
       "«         ░  ║  ║  ║ └╥┘┌─┐   \n",
       "«   q_4: ─░──╫──╫──╫──╫─┤M├───\n",
       "«         ░  ║  ║  ║  ║ └╥┘┌─┐\n",
       "«   q_5: ─░──╫──╫──╫──╫──╫─┤M├\n",
       "«         ░  ║  ║  ║  ║  ║ └╥┘\n",
       "«meas: 6/════╩══╩══╩══╩══╩══╩═\n",
       "«            0  1  2  3  4  5 "
      ]
     },
     "execution_count": 12,
     "metadata": {},
     "output_type": "execute_result"
    }
   ],
   "source": [
    "# create benchmark\n",
    "\n",
    "from mqt.bench import get_benchmark, QiskitSettings\n",
    "\n",
    "qc_algorithmic_level = get_benchmark(benchmark_name=\"routing\", level=\"alg\", circuit_size=3)\n",
    "qc_algorithmic_level.draw(\"text\")"
   ]
  },
  {
   "cell_type": "code",
   "execution_count": 13,
   "metadata": {},
   "outputs": [
    {
     "data": {
      "image/png": "[encoded data removed]",
      "text/plain": [
       "<Figure size 1667.33x618.722 with 1 Axes>"
      ]
     },
     "execution_count": 13,
     "metadata": {},
     "output_type": "execute_result"
    }
   ],
   "source": [
    "qc_algorithmic_level.draw(\"mpl\")"
   ]
  },
  {
   "cell_type": "code",
   "execution_count": null,
   "metadata": {},
   "outputs": [],
   "source": [
    "# Using circuit cuttng here\n",
    "# using qiskit circuit-cutting gate, wire here"
   ]
  },
  {
   "cell_type": "code",
   "execution_count": null,
   "metadata": {},
   "outputs": [],
   "source": [
    "#translate to data for input to scheduling, for each algorithm, we have dif define here"
   ]
  },
  {
   "cell_type": "code",
   "execution_count": 6,
   "metadata": {},
   "outputs": [],
   "source": [
    "# Configuration\n",
    "# 1. Number of Jobs in the batch\n",
    "jobs = {\"A\": 1, \"B\": 2, \"C\": 3, \"D\": 4, \"E\": 5}\n",
    "# 2. Number of machines\n",
    "machines = {\"QUITO\": 5, \"BELEM\": 5}\n",
    "# 3. Scheduling type"
   ]
  },
  {
   "cell_type": "code",
   "execution_count": 7,
   "metadata": {},
   "outputs": [],
   "source": [
    "# Setup\n",
    "bigM = 1000000\n",
    "timesteps = 2**5\n",
    "\n",
    "from component.d_scheduling.algorithm.ilp.MILQ_extend import MILQ_extend_implementation"
   ]
  },
  {
   "cell_type": "code",
   "execution_count": 8,
   "metadata": {},
   "outputs": [
    {
     "name": "stdout",
     "output_type": "stream",
     "text": [
      "Welcome to the CBC MILP Solver \n",
      "Version: 2.10.3 \n",
      "Build Date: Dec 15 2019 \n",
      "\n",
      "command line - /home/trieu/anaconda3/envs/squan/lib/python3.10/site-packages/pulp/apis/../solverdir/cbc/linux/i64/cbc /tmp/eba9885daf884917acb1026d3ff20799-pulp.mps -timeMode elapsed -branch -printingOptions all -solution /tmp/eba9885daf884917acb1026d3ff20799-pulp.sol (default strategy 1)\n",
      "At line 2 NAME          MODEL\n",
      "At line 3 ROWS\n",
      "At line 710 COLUMNS\n",
      "At line 4649 RHS\n",
      "At line 5355 BOUNDS\n",
      "At line 5860 ENDATA\n",
      "Problem MODEL has 705 rows, 514 columns and 2929 elements\n",
      "Coin0008I MODEL read with 0 errors\n",
      "Option for timeMode changed from cpu to elapsed\n",
      "Continuous objective value is 9.24521 - 0.00 seconds\n",
      "Cgl0002I 8 variables fixed\n",
      "Cgl0003I 0 fixed, 0 tightened bounds, 493 strengthened rows, 0 substitutions\n",
      "Cgl0003I 0 fixed, 0 tightened bounds, 394 strengthened rows, 0 substitutions\n",
      "Cgl0003I 0 fixed, 0 tightened bounds, 202 strengthened rows, 0 substitutions\n",
      "Cgl0003I 0 fixed, 0 tightened bounds, 176 strengthened rows, 0 substitutions\n",
      "Cgl0003I 0 fixed, 0 tightened bounds, 154 strengthened rows, 0 substitutions\n",
      "Cgl0003I 0 fixed, 0 tightened bounds, 133 strengthened rows, 0 substitutions\n",
      "Cgl0003I 0 fixed, 0 tightened bounds, 103 strengthened rows, 0 substitutions\n",
      "Cgl0003I 0 fixed, 0 tightened bounds, 100 strengthened rows, 0 substitutions\n",
      "Cgl0003I 0 fixed, 0 tightened bounds, 96 strengthened rows, 0 substitutions\n",
      "Cgl0004I processed model has 610 rows, 397 columns (388 integer (388 of which binary)) and 4358 elements\n",
      "Cbc0038I Initial state - 89 integers unsatisfied sum - 23.4311\n",
      "Cbc0038I Pass   1: suminf.    4.08912 (65) obj. 28 iterations 253\n",
      "Cbc0038I Pass   2: suminf.    3.32888 (60) obj. 29 iterations 12\n",
      "Cbc0038I Pass   3: suminf.    2.93345 (58) obj. 29 iterations 11\n",
      "Cbc0038I Pass   4: suminf.    2.84083 (58) obj. 29 iterations 6\n",
      "Cbc0038I Pass   5: suminf.    3.74590 (65) obj. 29 iterations 27\n",
      "Cbc0038I Pass   6: suminf.    3.55235 (61) obj. 29 iterations 15\n",
      "Cbc0038I Pass   7: suminf.    3.55299 (62) obj. 29 iterations 2\n",
      "Cbc0038I Pass   8: suminf.    2.98305 (58) obj. 29 iterations 27\n",
      "Cbc0038I Pass   9: suminf.    2.80830 (57) obj. 29 iterations 12\n",
      "Cbc0038I Pass  10: suminf.    3.59307 (63) obj. 29 iterations 23\n",
      "Cbc0038I Pass  11: suminf.    3.39426 (62) obj. 29 iterations 10\n",
      "Cbc0038I Pass  12: suminf.    3.38577 (59) obj. 29 iterations 8\n",
      "Cbc0038I Pass  13: suminf.    3.01631 (58) obj. 29 iterations 29\n",
      "Cbc0038I Pass  14: suminf.    2.80830 (57) obj. 29 iterations 11\n",
      "Cbc0038I Pass  15: suminf.    3.59117 (62) obj. 29 iterations 19\n",
      "Cbc0038I Pass  16: suminf.    3.39274 (61) obj. 29 iterations 10\n",
      "Cbc0038I Pass  17: suminf.    3.38432 (58) obj. 29 iterations 12\n",
      "Cbc0038I Pass  18: suminf.    3.01631 (58) obj. 29 iterations 26\n",
      "Cbc0038I Pass  19: suminf.    2.80830 (57) obj. 29 iterations 14\n",
      "Cbc0038I Pass  20: suminf.    3.59117 (62) obj. 29 iterations 22\n",
      "Cbc0038I Pass  21: suminf.    3.39274 (61) obj. 29 iterations 10\n",
      "Cbc0038I Pass  22: suminf.    3.38432 (58) obj. 29 iterations 17\n",
      "Cbc0038I Pass  23: suminf.    3.01631 (58) obj. 29 iterations 26\n",
      "Cbc0038I Pass  24: suminf.    2.80830 (57) obj. 29 iterations 11\n",
      "Cbc0038I Pass  25: suminf.    3.59117 (62) obj. 29 iterations 20\n",
      "Cbc0038I Pass  26: suminf.    3.39274 (61) obj. 29 iterations 10\n",
      "Cbc0038I Pass  27: suminf.    3.38432 (58) obj. 29 iterations 7\n",
      "Cbc0038I Pass  28: suminf.    3.47271 (58) obj. 29 iterations 9\n",
      "Cbc0038I Pass  29: suminf.    3.47271 (58) obj. 29 iterations 0\n",
      "Cbc0038I Pass  30: suminf.    3.47271 (58) obj. 29 iterations 3\n",
      "Cbc0038I No solution found this major pass\n",
      "Cbc0038I Before mini branch and bound, 252 integers at bound fixed and 0 continuous\n",
      "Cbc0038I Full problem 610 rows 397 columns, reduced to 338 rows 134 columns - too large\n",
      "Cbc0038I Mini branch and bound did not improve solution (0.17 seconds)\n",
      "Cbc0038I Full problem 611 rows 397 columns, reduced to 611 rows 397 columns - too large\n",
      "Cbc0038I After 0.18 seconds - Feasibility pump exiting - took 0.05 seconds\n",
      "Cbc0031I 104 added rows had average density of 8.5096154\n",
      "Cbc0013I At root node, 104 cuts changed objective from 9.2642289 to 15.009242 in 100 passes\n",
      "Cbc0014I Cut generator 0 (Probing) - 19850 row cuts average 3.2 elements, 0 column cuts (0 active)  in 0.233 seconds - new frequency is 1\n",
      "Cbc0014I Cut generator 1 (Gomory) - 1555 row cuts average 66.9 elements, 0 column cuts (0 active)  in 0.119 seconds - new frequency is 1\n",
      "Cbc0014I Cut generator 2 (Knapsack) - 1038 row cuts average 2.3 elements, 0 column cuts (0 active)  in 0.040 seconds - new frequency is 1\n",
      "Cbc0014I Cut generator 3 (Clique) - 0 row cuts average 0.0 elements, 0 column cuts (0 active)  in 0.011 seconds - new frequency is -100\n",
      "Cbc0014I Cut generator 4 (MixedIntegerRounding2) - 556 row cuts average 5.9 elements, 0 column cuts (0 active)  in 0.054 seconds - new frequency is 1\n",
      "Cbc0014I Cut generator 5 (FlowCover) - 19 row cuts average 2.9 elements, 0 column cuts (0 active)  in 0.030 seconds - new frequency is -100\n",
      "Cbc0014I Cut generator 6 (TwoMirCuts) - 1302 row cuts average 24.7 elements, 0 column cuts (0 active)  in 0.038 seconds - new frequency is 1\n",
      "Cbc0014I Cut generator 7 (ZeroHalf) - 265 row cuts average 4.1 elements, 0 column cuts (0 active)  in 0.125 seconds - new frequency is 1\n",
      "Cbc0010I After 0 nodes, 1 on tree, 1e+50 best solution, best possible 15.009242 (2.37 seconds)\n",
      "Cbc0012I Integer solution of 28 found by rounding after 34051 iterations and 123 nodes (3.96 seconds)\n",
      "Cbc0016I Integer solution of 24 found by strong branching after 37293 iterations and 234 nodes (4.11 seconds)\n",
      "Cbc0016I Integer solution of 23 found by strong branching after 49278 iterations and 276 nodes (4.89 seconds)\n",
      "Cbc0038I Full problem 610 rows 397 columns, reduced to 25 rows 22 columns\n",
      "Cbc0004I Integer solution of 21 found after 74000 iterations and 460 nodes (6.29 seconds)\n",
      "Cbc0001I Search completed - best objective 21, took 74406 iterations and 477 nodes (6.32 seconds)\n",
      "Cbc0032I Strong branching done 3366 times (54700 iterations), fathomed 29 nodes and fixed 114 variables\n",
      "Cbc0035I Maximum depth 38, 74 variables fixed on reduced cost\n",
      "Cuts at root node changed objective from 9.26423 to 15.0092\n",
      "Probing was tried 566 times and created 36191 cuts of which 0 were active after adding rounds of cuts (0.410 seconds)\n",
      "Gomory was tried 511 times and created 1957 cuts of which 0 were active after adding rounds of cuts (0.202 seconds)\n",
      "Knapsack was tried 511 times and created 2751 cuts of which 0 were active after adding rounds of cuts (0.128 seconds)\n",
      "Clique was tried 100 times and created 0 cuts of which 0 were active after adding rounds of cuts (0.011 seconds)\n",
      "MixedIntegerRounding2 was tried 511 times and created 1983 cuts of which 0 were active after adding rounds of cuts (0.162 seconds)\n",
      "FlowCover was tried 100 times and created 19 cuts of which 0 were active after adding rounds of cuts (0.030 seconds)\n",
      "TwoMirCuts was tried 511 times and created 2526 cuts of which 0 were active after adding rounds of cuts (0.111 seconds)\n",
      "ZeroHalf was tried 511 times and created 832 cuts of which 0 were active after adding rounds of cuts (0.258 seconds)\n",
      "ImplicationCuts was tried 86 times and created 10567 cuts of which 0 were active after adding rounds of cuts (0.033 seconds)\n",
      "\n",
      "Result - Optimal solution found\n",
      "\n",
      "Objective value:                21.00000000\n",
      "Enumerated nodes:               477\n",
      "Total iterations:               74406\n",
      "Time (CPU seconds):             6.26\n",
      "Time (Wallclock seconds):       6.33\n",
      "\n",
      "Option for printingOptions changed from normal to all\n",
      "Total time (CPU seconds):       6.26   (Wallclock seconds):       6.33\n",
      "\n"
     ]
    }
   ],
   "source": [
    "# Scheduler\n",
    "MILQ_extend_implementation.example_problem(bigM, timesteps, \"component/d_scheduling/algorithm/ilp/MILQ_extend/MILQ_extend_result\")\n"
   ]
  },
  {
   "cell_type": "code",
   "execution_count": null,
   "metadata": {},
   "outputs": [],
   "source": [
    "#mapping the scheduling result to the machine\n",
    "# check qiskit_102"
   ]
  },
  {
   "cell_type": "code",
   "execution_count": null,
   "metadata": {},
   "outputs": [],
   "source": [
    "# assemble the circuit with calculation time in scheduling\n",
    "# don't know"
   ]
  },
  {
   "cell_type": "code",
   "execution_count": null,
   "metadata": {},
   "outputs": [],
   "source": [
    "# reconstruct circuit after cutting\n",
    "# don't know"
   ]
  },
  {
   "cell_type": "code",
   "execution_count": null,
   "metadata": {},
   "outputs": [],
   "source": [
    "# get the value"
   ]
  },
  {
   "cell_type": "code",
   "execution_count": 9,
   "metadata": {},
   "outputs": [
    {
     "name": "stdout",
     "output_type": "stream",
     "text": [
      "  job  qubits machine  capacity  start   end  duration\n",
      "0   A       2   QUITO         5    0.0  14.0      14.0\n",
      "1   B       3   QUITO         5    0.0   8.0       8.0\n",
      "2   C       5   BELEM         5    0.0  20.0      20.0\n",
      "3   D       2   QUITO         5    9.0  21.0      12.0\n"
     ]
    },
    {
     "data": {
      "image/png": "[encoded data removed]",
      "text/plain": [
       "<Figure size 640x480 with 1 Axes>"
      ]
     },
     "metadata": {},
     "output_type": "display_data"
    }
   ],
   "source": [
    "# Visualize\n",
    "from component.d_scheduling.visualize import ilp\n",
    "\n",
    "ilp.visualize(\"component/d_scheduling/algorithm/ilp/MILQ_extend/MILQ_extend_result.json\")\n"
   ]
  },
  {
   "cell_type": "code",
   "execution_count": null,
   "metadata": {},
   "outputs": [],
   "source": [
    "\n",
    "# Analyze"
   ]
  }
 ],
 "metadata": {
  "kernelspec": {
   "display_name": "squan",
   "language": "python",
   "name": "python3"
  },
  "language_info": {
   "codemirror_mode": {
    "name": "ipython",
    "version": 3
   },
   "file_extension": ".py",
   "mimetype": "text/x-python",
   "name": "python",
   "nbconvert_exporter": "python",
   "pygments_lexer": "ipython3",
   "version": "3.10.16"
  }
 },
 "nbformat": 4,
 "nbformat_minor": 2
}
