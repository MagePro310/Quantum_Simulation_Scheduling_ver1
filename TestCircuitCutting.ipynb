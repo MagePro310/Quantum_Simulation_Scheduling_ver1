{
 "cells": [
  {
   "cell_type": "code",
   "execution_count": 10,
   "id": "2e152862",
   "metadata": {},
   "outputs": [],
   "source": [
    "import numpy as np\n",
    "from qiskit.circuit.library import efficient_su2\n",
    "from qiskit.quantum_info import SparsePauliOp\n",
    "from qiskit.transpiler import generate_preset_pass_manager\n",
    "from qiskit_ibm_runtime.fake_provider import FakeManilaV2\n",
    "from qiskit_ibm_runtime import SamplerV2, Batch\n",
    "from qiskit_aer.primitives import EstimatorV2\n",
    "from qiskit_addon_cutting import (\n",
    "    cut_gates,\n",
    "    partition_problem,\n",
    "    generate_cutting_experiments,\n",
    "    reconstruct_expectation_values,\n",
    ")\n",
    "from mqt.bench import get_benchmark\n",
    "from qiskit import transpile\n"
   ]
  },
  {
   "cell_type": "code",
   "execution_count": 11,
   "id": "29c3421c",
   "metadata": {},
   "outputs": [],
   "source": [
    "qc_algorithmic_level = get_benchmark(benchmark_name=\"wstate\", level=\"alg\", circuit_size=4)"
   ]
  },
  {
   "cell_type": "code",
   "execution_count": 12,
   "id": "057aa27d",
   "metadata": {},
   "outputs": [],
   "source": [
    "qc_algorithmic_level.remove_final_measurements()"
   ]
  },
  {
   "cell_type": "code",
   "execution_count": 13,
   "id": "b1520266",
   "metadata": {},
   "outputs": [],
   "source": [
    "backend = FakeManilaV2()\n",
    "qc_algorithmic_level = transpile(qc_algorithmic_level, backend=backend, optimization_level=3)"
   ]
  },
  {
   "cell_type": "code",
   "execution_count": 16,
   "id": "30adae89",
   "metadata": {},
   "outputs": [
    {
     "name": "stdout",
     "output_type": "stream",
     "text": [
      "Observable: SparsePauliOp(['ZZIII', 'IIZZI', 'IIXXI', 'XXIII', 'ZZXXI', 'XXZZI'],\n",
      "              coeffs=[1.+0.j, 1.+0.j, 1.+0.j, 1.+0.j, 1.+0.j, 1.+0.j])\n"
     ]
    },
    {
     "data": {
      "image/png": "[encoded data removed]",
      "text/plain": [
       "<Figure size 831.997x294.311 with 1 Axes>"
      ]
     },
     "execution_count": 16,
     "metadata": {},
     "output_type": "execute_result"
    }
   ],
   "source": [
    "qc = efficient_su2(4, entanglement=\"linear\", reps=2)\n",
    "qc.assign_parameters([0.4] * len(qc.parameters), inplace=True)\n",
    " \n",
    " \n",
    "observable = SparsePauliOp([\"ZZIII\", \"IIZZI\", \"IIXXI\", \"XXIII\", \"ZZXXI\", \"XXZZI\"])\n",
    "print(f\"Observable: {observable}\")\n",
    " \n",
    "qc.draw(\"mpl\", scale=0.8)"
   ]
  },
  {
   "cell_type": "code",
   "execution_count": 17,
   "id": "cfbdeb28",
   "metadata": {},
   "outputs": [
    {
     "name": "stdout",
     "output_type": "stream",
     "text": [
      "Sampling overhead: 81.0\n",
      "Subobservables: {'A': PauliList(['II', 'ZI', 'XI', 'II', 'XI', 'ZI']), 'B': PauliList(['ZZI', 'IIZ', 'IIX', 'XXI', 'ZZX', 'XXZ'])}\n"
     ]
    },
    {
     "data": {
      "image/png": "[encoded data removed]",
      "text/plain": [
       "<Figure size 445.248x160.533 with 1 Axes>"
      ]
     },
     "execution_count": 17,
     "metadata": {},
     "output_type": "execute_result"
    }
   ],
   "source": [
    "partitioned_problem = partition_problem(\n",
    "    circuit=qc_algorithmic_level, partition_labels=\"AABBB\", observables=observable.paulis\n",
    ")\n",
    "subcircuits = partitioned_problem.subcircuits\n",
    "subobservables = partitioned_problem.subobservables\n",
    "bases = partitioned_problem.bases\n",
    " \n",
    " \n",
    "print(f\"Sampling overhead: {np.prod([basis.overhead for basis in bases])}\")\n",
    "print(f\"Subobservables: {subobservables}\")\n",
    "subcircuits[\"A\"].draw(\"mpl\", scale=0.8)"
   ]
  },
  {
   "cell_type": "code",
   "execution_count": 17,
   "id": "cccd1962",
   "metadata": {},
   "outputs": [],
   "source": [
    "subexperiments, coefficients = generate_cutting_experiments(\n",
    "    circuits=subcircuits, observables=subobservables, num_samples=np.inf\n",
    ")\n",
    " \n",
    "# Set a backend to use and transpile the subexperiments\n",
    "backend = FakeManilaV2()\n",
    "pass_manager = generate_preset_pass_manager(\n",
    "    optimization_level=1, backend=backend\n",
    ")\n",
    "isa_subexperiments = {\n",
    "    label: pass_manager.run(partition_subexpts)\n",
    "    for label, partition_subexpts in subexperiments.items()\n",
    "}\n",
    " \n",
    "# Submit each partition's subexperiments to the Qiskit Runtime Sampler\n",
    "# primitive, in a single batch so that the jobs will run back-to-back.\n",
    "with Batch(backend=backend) as batch:\n",
    "    sampler = SamplerV2(mode=batch)\n",
    "    jobs = {\n",
    "        label: sampler.run(subsystem_subexpts, shots=4096 * 3)\n",
    "        for label, subsystem_subexpts in isa_subexperiments.items()\n",
    "    }\n",
    " \n",
    "# Retrieve results\n",
    "results = {label: job.result() for label, job in jobs.items()}"
   ]
  },
  {
   "cell_type": "code",
   "execution_count": 18,
   "id": "46c79bb9",
   "metadata": {},
   "outputs": [
    {
     "name": "stdout",
     "output_type": "stream",
     "text": [
      "Reconstructed expectation value: 1.62612935\n",
      "Exact expectation value: 1.78777118\n",
      "Error in estimation: -0.16164183\n",
      "Relative error in estimation: -0.09041528\n"
     ]
    }
   ],
   "source": [
    "# Get expectation values for each observable term\n",
    "reconstructed_expval_terms = reconstruct_expectation_values(\n",
    "    results,\n",
    "    coefficients,\n",
    "    subobservables,\n",
    ")\n",
    " \n",
    "# Reconstruct final expectation value\n",
    "reconstructed_expval = np.dot(reconstructed_expval_terms, observable.coeffs)\n",
    " \n",
    " \n",
    "estimator = EstimatorV2()\n",
    "exact_expval = (\n",
    "    estimator.run([(qc, observable, [0.4] * len(qc.parameters))])\n",
    "    .result()[0]\n",
    "    .data.evs\n",
    ")\n",
    "print(\n",
    "    f\"Reconstructed expectation value: {np.real(np.round(reconstructed_expval, 8))}\"\n",
    ")\n",
    "print(f\"Exact expectation value: {np.round(exact_expval, 8)}\")\n",
    "print(\n",
    "    f\"Error in estimation: {np.real(np.round(reconstructed_expval-exact_expval, 8))}\"\n",
    ")\n",
    "print(\n",
    "    f\"Relative error in estimation: {np.real(np.round((reconstructed_expval-exact_expval) / exact_expval, 8))}\"\n",
    ")"
   ]
  }
 ],
 "metadata": {
  "kernelspec": {
   "display_name": "squan",
   "language": "python",
   "name": "python3"
  },
  "language_info": {
   "codemirror_mode": {
    "name": "ipython",
    "version": 3
   },
   "file_extension": ".py",
   "mimetype": "text/x-python",
   "name": "python",
   "nbconvert_exporter": "python",
   "pygments_lexer": "ipython3",
   "version": "3.10.16"
  }
 },
 "nbformat": 4,
 "nbformat_minor": 5
}
