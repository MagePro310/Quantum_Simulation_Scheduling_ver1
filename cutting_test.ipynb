{
 "cells": [
  {
   "cell_type": "markdown",
   "metadata": {},
   "source": [
    "Gate cutting to reduce circuit width\n"
   ]
  },
  {
   "cell_type": "code",
   "execution_count": 3,
   "metadata": {},
   "outputs": [
    {
     "name": "stdout",
     "output_type": "stream",
     "text": [
      "Observable: SparsePauliOp(['ZZII', 'IZZI', 'IIZZ', 'XIXI', 'ZIZZ', 'IXIX'],\n",
      "              coeffs=[ 1.+0.j,  1.+0.j, -1.+0.j,  1.+0.j,  1.+0.j,  1.+0.j])\n"
     ]
    },
    {
     "data": {
      "image/png": "[encoded data removed]",
      "text/plain": [
       "<Figure size 363.775x294.311 with 1 Axes>"
      ]
     },
     "execution_count": 3,
     "metadata": {},
     "output_type": "execute_result"
    }
   ],
   "source": [
    "import numpy as np\n",
    "from qiskit.circuit.library import efficient_su2\n",
    "from qiskit.quantum_info import SparsePauliOp\n",
    "from qiskit.transpiler import generate_preset_pass_manager\n",
    "from qiskit_ibm_runtime.fake_provider import FakeManilaV2\n",
    "from qiskit_ibm_runtime import SamplerV2, Batch\n",
    "from qiskit_aer.primitives import EstimatorV2\n",
    "from qiskit_addon_cutting import (\n",
    "    cut_gates,\n",
    "    partition_problem,\n",
    "    generate_cutting_experiments,\n",
    "    reconstruct_expectation_values,\n",
    ")\n",
    "from component.b_benchmark.mqt_tool import benchmark_circuit\n",
    "\n",
    "qc = benchmark_circuit(\"ghz\", 4)\n",
    "qc.remove_final_measurements()\n",
    " \n",
    "observable = SparsePauliOp([\"ZZII\", \"IZZI\", \"-IIZZ\", \"XIXI\", \"ZIZZ\", \"IXIX\"])\n",
    "print(f\"Observable: {observable}\")\n",
    " \n",
    "qc.draw(\"mpl\", scale=0.8)"
   ]
  },
  {
   "cell_type": "code",
   "execution_count": 6,
   "metadata": {},
   "outputs": [
    {
     "name": "stdout",
     "output_type": "stream",
     "text": [
      "Sampling overhead: 9.0\n",
      "Subobservables: {'A': PauliList(['II', 'ZI', 'ZZ', 'XI', 'ZZ', 'IX']), 'B': PauliList(['ZZ', 'IZ', 'II', 'XI', 'ZI', 'IX'])}\n"
     ]
    },
    {
     "data": {
      "image/png": "[encoded data removed]",
      "text/plain": [
       "<Figure size 311.47x160.533 with 1 Axes>"
      ]
     },
     "execution_count": 6,
     "metadata": {},
     "output_type": "execute_result"
    }
   ],
   "source": [
    "from qiskit_addon_cutting import partition_problem\n",
    "\n",
    "create_string = \"AABB\"\n",
    "partitioned_problem = partition_problem(\n",
    "    circuit=qc, partition_labels=create_string, observables=observable.paulis\n",
    ")\n",
    "subcircuits = partitioned_problem.subcircuits\n",
    "subobservables = partitioned_problem.subobservables\n",
    "bases = partitioned_problem.bases\n",
    "print(f\"Sampling overhead: {np.prod([basis.overhead for basis in bases])}\")\n",
    "print(f\"Subobservables: {subobservables}\")\n",
    "subcircuits[\"A\"].draw(\"mpl\", scale=0.8)"
   ]
  },
  {
   "cell_type": "code",
   "execution_count": 7,
   "metadata": {},
   "outputs": [
    {
     "data": {
      "image/png": "[encoded data removed]",
      "text/plain": [
       "<Figure size 378.198x160.533 with 1 Axes>"
      ]
     },
     "execution_count": 7,
     "metadata": {},
     "output_type": "execute_result"
    }
   ],
   "source": [
    "subcircuits[\"B\"].draw(\"mpl\", scale=0.8)"
   ]
  },
  {
   "cell_type": "code",
   "execution_count": null,
   "metadata": {},
   "outputs": [],
   "source": [
    "subexperiments, coefficients = generate_cutting_experiments(\n",
    "    circuits=subcircuits, observables=subobservables, num_samples=np.inf\n",
    ")\n",
    " \n",
    "# Set a backend to use and transpile the subexperiments\n",
    "backend = FakeManilaV2()\n",
    "pass_manager = generate_preset_pass_manager(\n",
    "    optimization_level=1, backend=backend\n",
    ")\n",
    "isa_subexperiments = {\n",
    "    label: pass_manager.run(partition_subexpts)\n",
    "    for label, partition_subexpts in subexperiments.items()\n",
    "}\n",
    " \n",
    "# Submit each partition's subexperiments to the Qiskit Runtime Sampler\n",
    "# primitive, in a single batch so that the jobs will run back-to-back.\n",
    "with Batch(backend=backend) as batch:\n",
    "    sampler = SamplerV2(mode=batch)\n",
    "    jobs = {\n",
    "        label: sampler.run(subsystem_subexpts, shots=4096 * 3)\n",
    "        for label, subsystem_subexpts in isa_subexperiments.items()\n",
    "    }\n",
    " \n",
    "# Retrieve results\n",
    "results = {label: job.result() for label, job in jobs.items()}"
   ]
  },
  {
   "cell_type": "code",
   "execution_count": null,
   "metadata": {},
   "outputs": [],
   "source": [
    "# Get expectation values for each observable term\n",
    "reconstructed_expval_terms = reconstruct_expectation_values(\n",
    "    results,\n",
    "    coefficients,\n",
    "    subobservables,\n",
    ")\n",
    " \n",
    "# Reconstruct final expectation value\n",
    "reconstructed_expval = np.dot(reconstructed_expval_terms, observable.coeffs)\n",
    " \n",
    " \n",
    "estimator = EstimatorV2()\n",
    "exact_expval = (\n",
    "    estimator.run([(qc, observable, [0.4] * len(qc.parameters))])\n",
    "    .result()[0]\n",
    "    .data.evs\n",
    ")\n",
    "print(\n",
    "    f\"Reconstructed expectation value: {np.real(np.round(reconstructed_expval, 8))}\"\n",
    ")\n",
    "print(f\"Exact expectation value: {np.round(exact_expval, 8)}\")\n",
    "print(\n",
    "    f\"Error in estimation: {np.real(np.round(reconstructed_expval-exact_expval, 8))}\"\n",
    ")\n",
    "print(\n",
    "    f\"Relative error in estimation: {np.real(np.round((reconstructed_expval-exact_expval) / exact_expval, 8))}\"\n",
    ")"
   ]
  }
 ],
 "metadata": {
  "kernelspec": {
   "display_name": "squan",
   "language": "python",
   "name": "python3"
  },
  "language_info": {
   "codemirror_mode": {
    "name": "ipython",
    "version": 3
   },
   "file_extension": ".py",
   "mimetype": "text/x-python",
   "name": "python",
   "nbconvert_exporter": "python",
   "pygments_lexer": "ipython3",
   "version": "3.10.16"
  }
 },
 "nbformat": 4,
 "nbformat_minor": 2
}
