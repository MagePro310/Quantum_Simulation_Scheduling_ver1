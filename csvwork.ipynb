{
 "cells": [
  {
   "cell_type": "code",
   "execution_count": 1,
   "id": "e1e8da01",
   "metadata": {},
   "outputs": [
    {
     "name": "stdout",
     "output_type": "stream",
     "text": [
      "  dataset  final_rank  normalized_score\n",
      "0     FFD         1.0          1.000000\n",
      "1    MILQ         2.0          1.007833\n",
      "2    MTMC         3.0          1.075718\n",
      "3  NoTaDS         4.0          1.146214\n"
     ]
    }
   ],
   "source": [
    "import pandas as pd\n",
    "\n",
    "df_csv = pd.read_csv('analyze/calculation/result_average_fidelity.csv')\n",
    "print(df_csv)\n",
    "\n"
   ]
  },
  {
   "cell_type": "code",
   "execution_count": 2,
   "id": "a9ba27fa",
   "metadata": {},
   "outputs": [
    {
     "ename": "NameError",
     "evalue": "name 'df' is not defined",
     "output_type": "error",
     "traceback": [
      "\u001b[0;31m---------------------------------------------------------------------------\u001b[0m",
      "\u001b[0;31mNameError\u001b[0m                                 Traceback (most recent call last)",
      "Cell \u001b[0;32mIn[2], line 32\u001b[0m\n\u001b[1;32m     29\u001b[0m algos \u001b[38;5;241m=\u001b[39m [\u001b[38;5;124m'\u001b[39m\u001b[38;5;124mFFD\u001b[39m\u001b[38;5;124m'\u001b[39m, \u001b[38;5;124m'\u001b[39m\u001b[38;5;124mMILQ\u001b[39m\u001b[38;5;124m'\u001b[39m, \u001b[38;5;124m'\u001b[39m\u001b[38;5;124mMTMC\u001b[39m\u001b[38;5;124m'\u001b[39m, \u001b[38;5;124m'\u001b[39m\u001b[38;5;124mNoTaDS\u001b[39m\u001b[38;5;124m'\u001b[39m]\n\u001b[1;32m     31\u001b[0m \u001b[38;5;66;03m# Vẽ radar plot cho tổng điểm\u001b[39;00m\n\u001b[0;32m---> 32\u001b[0m radar_plot(\u001b[43mdf\u001b[49m, algos, \u001b[38;5;124m'\u001b[39m\u001b[38;5;124mRadar Plot - Total Scores\u001b[39m\u001b[38;5;124m'\u001b[39m)\n",
      "\u001b[0;31mNameError\u001b[0m: name 'df' is not defined"
     ]
    }
   ],
   "source": [
    "import matplotlib.pyplot as plt\n",
    "import numpy as np\n",
    "\n",
    "def radar_plot(df, algorithms, title):\n",
    "    # Số metric\n",
    "    categories = df['metric'].values\n",
    "    N = len(categories)\n",
    "    \n",
    "    # Góc cho mỗi metric trên radar plot\n",
    "    angles = np.linspace(0, 2 * np.pi, N, endpoint=False).tolist()\n",
    "    angles += angles[:1]  # để vòng kín lại\n",
    "\n",
    "    plt.figure(figsize=(8, 8))\n",
    "    \n",
    "    for algo in algorithms:\n",
    "        values = df[algo].values.flatten().tolist()\n",
    "        values += values[:1]  # vòng kín\n",
    "        \n",
    "        plt.polar(angles, values, marker='o', label=algo)\n",
    "    \n",
    "    # Ticks và labels\n",
    "    plt.xticks(angles[:-1], categories, fontsize=12)\n",
    "    plt.title(title, size=15, y=1.1)\n",
    "    plt.legend(loc='upper right', bbox_to_anchor=(1.2, 1.1))\n",
    "    plt.grid(True)\n",
    "    plt.show()\n",
    "\n",
    "# Danh sách thuật toán\n",
    "algos = ['FFD', 'MILQ', 'MTMC', 'NoTaDS']\n",
    "\n",
    "# Vẽ radar plot cho tổng điểm\n",
    "radar_plot(df, algos, 'Radar Plot - Total Scores')\n"
   ]
  }
 ],
 "metadata": {
  "kernelspec": {
   "display_name": "squan",
   "language": "python",
   "name": "python3"
  },
  "language_info": {
   "codemirror_mode": {
    "name": "ipython",
    "version": 3
   },
   "file_extension": ".py",
   "mimetype": "text/x-python",
   "name": "python",
   "nbconvert_exporter": "python",
   "pygments_lexer": "ipython3",
   "version": "3.10.16"
  }
 },
 "nbformat": 4,
 "nbformat_minor": 5
}
