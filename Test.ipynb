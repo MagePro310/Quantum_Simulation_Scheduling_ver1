{
 "cells": [
  {
   "cell_type": "code",
   "execution_count": 3,
   "id": "852b1fdf",
   "metadata": {},
   "outputs": [
    {
     "name": "stdout",
     "output_type": "stream",
     "text": [
      "✅ Schedule saved to scheduled_jobs.json\n"
     ]
    }
   ],
   "source": [
    "import json\n",
    "from typing import List, Dict\n",
    "\n",
    "def find_earliest_start(machine_schedule: List[Dict], machine_capacity: int, job_qubits: int, base_time_per_qubit: float) -> float:\n",
    "    \"\"\"Find the earliest time the job can run without exceeding capacity.\"\"\"\n",
    "    duration = job_qubits * base_time_per_qubit\n",
    "    t = 0.0\n",
    "    time_step = 1.0\n",
    "\n",
    "    while True:\n",
    "        # Check current load in interval [t, t+duration]\n",
    "        load = 0\n",
    "        for job in machine_schedule:\n",
    "            if not (t + duration <= job['start'] or t >= job['end']):  # overlap\n",
    "                load += job['qubits']\n",
    "\n",
    "        if load + job_qubits <= machine_capacity:\n",
    "            return t\n",
    "        t += time_step\n",
    "\n",
    "def schedule_jobs_parallel(job_capacities, machine_capacities, base_time_per_qubit=10.0):\n",
    "    # Sort jobs in descending order of qubits\n",
    "    sorted_jobs = sorted(job_capacities.items(), key=lambda x: -x[1])\n",
    "    \n",
    "    # Initialize per-machine schedules\n",
    "    machines = {name: [] for name in machine_capacities}\n",
    "\n",
    "    schedule = []\n",
    "\n",
    "    for job_id, qubit in sorted_jobs:\n",
    "        if qubit == 0:\n",
    "            continue\n",
    "\n",
    "        duration = qubit * base_time_per_qubit\n",
    "\n",
    "        assigned = False\n",
    "        for machine_name, capacity in machine_capacities.items():\n",
    "            machine_schedule = machines[machine_name]\n",
    "            start_time = find_earliest_start(machine_schedule, capacity, qubit, base_time_per_qubit)\n",
    "            end_time = start_time + duration\n",
    "\n",
    "            job_info = {\n",
    "                \"job\": job_id,\n",
    "                \"qubits\": qubit,\n",
    "                \"machine\": machine_name,\n",
    "                \"capacity\": capacity,\n",
    "                \"start\": start_time,\n",
    "                \"end\": end_time,\n",
    "                \"duration\": duration\n",
    "            }\n",
    "\n",
    "            schedule.append(job_info)\n",
    "            machine_schedule.append(job_info)\n",
    "            assigned = True\n",
    "            break\n",
    "\n",
    "        if not assigned:\n",
    "            raise RuntimeError(f\"No machine can accommodate job {job_id} with {qubit} qubits.\")\n",
    "\n",
    "    return schedule\n",
    "\n",
    "def save_schedule_to_json(schedule, filename):\n",
    "    with open(filename, \"w\") as f:\n",
    "        json.dump(schedule, f, indent=4)\n",
    "\n",
    "# Example usage\n",
    "if __name__ == \"__main__\":\n",
    "    job_capacities = {'0': 0, '1': 1, '2': 1, '3': 1, '4': 1, '5': 1}\n",
    "    machine_capacities = {'fake_belem': 5, 'fake_manila': 5}\n",
    "    \n",
    "    schedule = schedule_jobs_parallel(job_capacities, machine_capacities, base_time_per_qubit=10.0)\n",
    "    save_schedule_to_json(schedule, \"scheduled_jobs.json\")\n",
    "    print(\"✅ Schedule saved to scheduled_jobs.json\")\n"
   ]
  }
 ],
 "metadata": {
  "kernelspec": {
   "display_name": "squan",
   "language": "python",
   "name": "python3"
  },
  "language_info": {
   "codemirror_mode": {
    "name": "ipython",
    "version": 3
   },
   "file_extension": ".py",
   "mimetype": "text/x-python",
   "name": "python",
   "nbconvert_exporter": "python",
   "pygments_lexer": "ipython3",
   "version": "3.10.16"
  }
 },
 "nbformat": 4,
 "nbformat_minor": 5
}
