{
 "cells": [
  {
   "cell_type": "code",
   "execution_count": 1,
   "id": "866d2005",
   "metadata": {},
   "outputs": [],
   "source": [
    "%load_ext autoreload\n",
    "%autoreload 2"
   ]
  },
  {
   "cell_type": "code",
   "execution_count": 3,
   "id": "601d975f",
   "metadata": {},
   "outputs": [],
   "source": [
    "import sys\n",
    "sys.path.append('./')\n",
    "import json\n",
    "import os\n",
    "import qiskit\n",
    "from qiskit import QuantumCircuit\n",
    "import numpy as np\n",
    "from dataclasses import dataclass\n",
    "from enum import auto, Enum\n",
    "import matplotlib.pyplot as plt\n",
    "import math\n",
    "import pandas as pd\n",
    "from qiskit.visualization import plot_error_map\n",
    "from component.a_backend.fake_backend import *\n",
    "from mqt.bench.targets import get_available_gateset_names, get_available_device_names\n",
    "from mqt.bench import BenchmarkLevel, get_benchmark\n",
    "from mqt.bench.targets import get_device, get_target_for_gateset\n",
    "from qiskit import QuantumCircuit, transpile\n",
    "from qiskit_ibm_runtime import QiskitRuntimeService, SamplerV2 as Sampler\n",
    "from qiskit.transpiler import generate_preset_pass_manager\n",
    " \n",
    "from qiskit.circuit import QuantumCircuit\n",
    "from qiskit.visualization import plot_histogram\n",
    "from component.sup_sys.backend_loader import load_backends\n",
    "from qiskit.visualization import plot_error_map\n",
    "from component.c_circuit_work.knitting.width_k import *\n",
    "from qiskit.transpiler import *"
   ]
  },
  {
   "cell_type": "code",
   "execution_count": 38,
   "id": "d3851d70",
   "metadata": {},
   "outputs": [
    {
     "name": "stdout",
     "output_type": "stream",
     "text": [
      "Result(backend_name='aer_simulator', backend_version='0.17.0', qobj_id='', job_id='beeee33c-98cb-434c-9865-ae53ddc93c92', success=True, results=[ExperimentResult(shots=1000, success=True, meas_level=2, data=ExperimentResultData(counts={'0x3': 4, '0x0': 23, '0x2': 973}), header=QobjExperimentHeader(creg_sizes=[['c', 2]], global_phase=1.5707963267949, memory_slots=2, n_qubits=5, name='bv', qreg_sizes=[['q', 5]], metadata={}), status=DONE, seed_simulator=1725201286, metadata={'time_taken': 0.007655244, 'num_bind_params': 1, 'parallel_state_update': 12, 'parallel_shots': 1, 'required_memory_mb': 1, 'input_qubit_map': [[3, 2], [1, 1], [0, 0]], 'method': 'density_matrix', 'device': 'CPU', 'num_qubits': 3, 'sample_measure_time': 0.005948074, 'active_input_qubits': [0, 1, 3], 'num_clbits': 2, 'remapped_qubits': True, 'runtime_parameter_bind': False, 'max_memory_mb': 15333, 'noise': 'superop', 'measure_sampling': True, 'batched_shots_optimization': False, 'fusion': {'applied': False, 'max_fused_qubits': 2, 'threshold': 7, 'enabled': True}}, time_taken=0.007655244)], date=2025-08-11T16:24:25.886280, status=COMPLETED, header=None, metadata={'time_taken_parameter_binding': 1.7442e-05, 'time_taken_execute': 0.012266265, 'omp_enabled': True, 'max_gpu_memory_mb': 0, 'max_memory_mb': 15333, 'parallel_experiments': 1}, time_taken=0.03544282913208008)\n",
      "{'11': 4, '00': 23, '10': 973}\n"
     ]
    }
   ],
   "source": [
    "qc_algorithmic_level1 = get_benchmark(benchmark=\"bv\", level=BenchmarkLevel.ALG, circuit_size=3)\n",
    "backend0 = FakeAthensV2()\n",
    "transpile11 = transpile(qc_algorithmic_level1, backend=backend0)\n",
    "\n",
    "result11 = backend0.run(transpile11, shots=1000).result()\n",
    "print(result11)\n",
    "counts11 = result11.get_counts(transpile11)\n",
    "print(counts11)\n",
    "plot1 = plot_histogram(counts11)\n",
    "plot1.savefig('img/plothistogram.png')"
   ]
  },
  {
   "cell_type": "code",
   "execution_count": 4,
   "id": "0ab67bc0",
   "metadata": {},
   "outputs": [],
   "source": [
    "transpile11 = transpile(qc_algorithmic_level1)\n",
    "plot2 = transpile11.draw(\"mpl\")\n",
    "plot2.savefig('img/dj_algorithmic_level_3qubit_decompose.pdf')"
   ]
  },
  {
   "cell_type": "code",
   "execution_count": 5,
   "id": "0f303d35",
   "metadata": {},
   "outputs": [],
   "source": [
    "qc_algorithmic_level2 = get_benchmark(benchmark=\"half_adder\", level=BenchmarkLevel.ALG, circuit_size=3)\n",
    "plot3 = qc_algorithmic_level2.draw(\"mpl\")\n",
    "plot3.savefig('img/half_adder_algorithmic_level_3qubit.pdf')"
   ]
  },
  {
   "cell_type": "code",
   "execution_count": 6,
   "id": "4214ec7e",
   "metadata": {},
   "outputs": [],
   "source": [
    "transpile21 = transpile(qc_algorithmic_level2)\n",
    "plot4 = transpile21.draw(\"mpl\")\n",
    "plot4.savefig('img/half_adder_algorithmic_level_3qubit_decompose.pdf')\n"
   ]
  }
 ],
 "metadata": {
  "kernelspec": {
   "display_name": "squan",
   "language": "python",
   "name": "python3"
  },
  "language_info": {
   "codemirror_mode": {
    "name": "ipython",
    "version": 3
   },
   "file_extension": ".py",
   "mimetype": "text/x-python",
   "name": "python",
   "nbconvert_exporter": "python",
   "pygments_lexer": "ipython3",
   "version": "3.10.16"
  }
 },
 "nbformat": 4,
 "nbformat_minor": 5
}
