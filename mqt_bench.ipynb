{
 "cells": [
  {
   "cell_type": "code",
   "execution_count": 12,
   "id": "14a4e946",
   "metadata": {},
   "outputs": [
    {
     "name": "stdout",
     "output_type": "stream",
     "text": [
      "Figure(1252x535.111)\n"
     ]
    }
   ],
   "source": [
    "from mqt.bench import get_benchmark\n",
    "from qiskit import transpile\n",
    "from qiskit_ibm_runtime.fake_provider import FakeBelemV2\n",
    "# get a benchmark circuit on algorithmic level representing the GHZ state with 5 qubits\n",
    "qc_algorithmic_level = get_benchmark(benchmark_name=\"dj\", level=\"alg\", circuit_size=4)\n",
    "\n",
    "# transpile the circuit to the backend\n",
    "backend = FakeBelemV2()\n",
    "qc_algorithmic_level = transpile(qc_algorithmic_level, backend=backend, optimization_level=3)\n",
    "# draw the circuit\n",
    "print(qc_algorithmic_level.draw(\"mpl\"))\n",
    "\n"
   ]
  },
  {
   "cell_type": "code",
   "execution_count": 9,
   "id": "4819d415",
   "metadata": {},
   "outputs": [],
   "source": [
    "from component.c_circuit_work.cutting.width_c import *\n",
    "from qiskit.quantum_info import SparsePauliOp\n",
    "\n",
    "result = gate_to_reduce_width(qc_algorithmic_level, \"AAABB\", observable=SparsePauliOp(\"IIIII\"))"
   ]
  },
  {
   "cell_type": "code",
   "execution_count": 11,
   "id": "88ee9149",
   "metadata": {},
   "outputs": [
    {
     "name": "stdout",
     "output_type": "stream",
     "text": [
      "       ┌─────────┐ ┌────┐ ┌───────┐                          ┌────┐   »\n",
      "q10_0: ┤ Rz(π/2) ├─┤ √X ├─┤ Rz(π) ├───────────────────■──────┤ √X ├───»\n",
      "       ├─────────┤ ├────┤┌┴───────┴─┐ cut_cx_0 ┌───┐┌─┴─┐    └────┘   »\n",
      "q10_1: ┤ Rz(π/2) ├─┤ √X ├┤ Rz(-π/2) ├────░─────┤ X ├┤ X ├─────────────»\n",
      "       ├─────────┴┐├────┤└┬───────┬─┘    ░     └─┬─┘├───┴┐┌──────────┐»\n",
      "q10_2: ┤ Rz(-π/2) ├┤ √X ├─┤ Rz(π) ├──────────────■──┤ √X ├┤ Rz(-π/2) ├»\n",
      "       └──────────┘└────┘ └───────┘                 └────┘└──────────┘»\n",
      "«       ┌─────────┐\n",
      "«q10_0: ┤ Rz(π/2) ├\n",
      "«       └─────────┘\n",
      "«q10_1: ───────────\n",
      "«                  \n",
      "«q10_2: ───────────\n",
      "«                  \n"
     ]
    }
   ],
   "source": [
    "print(result.subcircuits[\"A\"].draw())"
   ]
  }
 ],
 "metadata": {
  "kernelspec": {
   "display_name": "squan",
   "language": "python",
   "name": "python3"
  },
  "language_info": {
   "codemirror_mode": {
    "name": "ipython",
    "version": 3
   },
   "file_extension": ".py",
   "mimetype": "text/x-python",
   "name": "python",
   "nbconvert_exporter": "python",
   "pygments_lexer": "ipython3",
   "version": "3.10.16"
  }
 },
 "nbformat": 4,
 "nbformat_minor": 5
}
